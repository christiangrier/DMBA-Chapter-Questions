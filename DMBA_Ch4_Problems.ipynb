{
 "cells": [
  {
   "cell_type": "markdown",
   "id": "egyptian-reflection",
   "metadata": {},
   "source": [
    "<h2> Name: Christian Grier"
   ]
  },
  {
   "cell_type": "code",
   "execution_count": 20,
   "id": "international-ranch",
   "metadata": {},
   "outputs": [],
   "source": [
    "from pathlib import Path\n",
    "import pandas as pd\n",
    "import numpy as np\n",
    "import matplotlib.pylab as plt\n",
    "import matplotlib.patches as mpat\n",
    "from sklearn.decomposition import PCA\n",
    "from sklearn import preprocessing\n",
    "DATA = Path(\"C:/Users/chris/Documents/DS 110-DM/data\")"
   ]
  },
  {
   "cell_type": "code",
   "execution_count": 21,
   "id": "unlimited-watch",
   "metadata": {},
   "outputs": [
    {
     "name": "stdout",
     "output_type": "stream",
     "text": [
      "<class 'pandas.core.frame.DataFrame'>\n"
     ]
    }
   ],
   "source": [
    "cereal_df = pd.read_csv(DATA / \"Cereals.csv\")\n",
    "print(type(cereal_df))"
   ]
  },
  {
   "cell_type": "markdown",
   "id": "least-kentucky",
   "metadata": {},
   "source": [
    "<h3>Question 1.a"
   ]
  },
  {
   "cell_type": "code",
   "execution_count": 6,
   "id": "growing-reynolds",
   "metadata": {},
   "outputs": [
    {
     "data": {
      "text/html": [
       "<div>\n",
       "<style scoped>\n",
       "    .dataframe tbody tr th:only-of-type {\n",
       "        vertical-align: middle;\n",
       "    }\n",
       "\n",
       "    .dataframe tbody tr th {\n",
       "        vertical-align: top;\n",
       "    }\n",
       "\n",
       "    .dataframe thead th {\n",
       "        text-align: right;\n",
       "    }\n",
       "</style>\n",
       "<table border=\"1\" class=\"dataframe\">\n",
       "  <thead>\n",
       "    <tr style=\"text-align: right;\">\n",
       "      <th></th>\n",
       "      <th>name</th>\n",
       "      <th>mfr</th>\n",
       "      <th>type</th>\n",
       "      <th>calories</th>\n",
       "      <th>protein</th>\n",
       "      <th>fat</th>\n",
       "      <th>sodium</th>\n",
       "      <th>fiber</th>\n",
       "      <th>carbo</th>\n",
       "      <th>sugars</th>\n",
       "      <th>potass</th>\n",
       "      <th>vitamins</th>\n",
       "      <th>shelf</th>\n",
       "      <th>weight</th>\n",
       "      <th>cups</th>\n",
       "      <th>rating</th>\n",
       "    </tr>\n",
       "  </thead>\n",
       "  <tbody>\n",
       "    <tr>\n",
       "      <th>0</th>\n",
       "      <td>100%_Bran</td>\n",
       "      <td>N</td>\n",
       "      <td>C</td>\n",
       "      <td>70</td>\n",
       "      <td>4</td>\n",
       "      <td>1</td>\n",
       "      <td>130</td>\n",
       "      <td>10.0</td>\n",
       "      <td>5.0</td>\n",
       "      <td>6.0</td>\n",
       "      <td>280.0</td>\n",
       "      <td>25</td>\n",
       "      <td>3</td>\n",
       "      <td>1.0</td>\n",
       "      <td>0.33</td>\n",
       "      <td>68.402973</td>\n",
       "    </tr>\n",
       "    <tr>\n",
       "      <th>1</th>\n",
       "      <td>100%_Natural_Bran</td>\n",
       "      <td>Q</td>\n",
       "      <td>C</td>\n",
       "      <td>120</td>\n",
       "      <td>3</td>\n",
       "      <td>5</td>\n",
       "      <td>15</td>\n",
       "      <td>2.0</td>\n",
       "      <td>8.0</td>\n",
       "      <td>8.0</td>\n",
       "      <td>135.0</td>\n",
       "      <td>0</td>\n",
       "      <td>3</td>\n",
       "      <td>1.0</td>\n",
       "      <td>1.00</td>\n",
       "      <td>33.983679</td>\n",
       "    </tr>\n",
       "    <tr>\n",
       "      <th>2</th>\n",
       "      <td>All-Bran</td>\n",
       "      <td>K</td>\n",
       "      <td>C</td>\n",
       "      <td>70</td>\n",
       "      <td>4</td>\n",
       "      <td>1</td>\n",
       "      <td>260</td>\n",
       "      <td>9.0</td>\n",
       "      <td>7.0</td>\n",
       "      <td>5.0</td>\n",
       "      <td>320.0</td>\n",
       "      <td>25</td>\n",
       "      <td>3</td>\n",
       "      <td>1.0</td>\n",
       "      <td>0.33</td>\n",
       "      <td>59.425505</td>\n",
       "    </tr>\n",
       "    <tr>\n",
       "      <th>3</th>\n",
       "      <td>All-Bran_with_Extra_Fiber</td>\n",
       "      <td>K</td>\n",
       "      <td>C</td>\n",
       "      <td>50</td>\n",
       "      <td>4</td>\n",
       "      <td>0</td>\n",
       "      <td>140</td>\n",
       "      <td>14.0</td>\n",
       "      <td>8.0</td>\n",
       "      <td>0.0</td>\n",
       "      <td>330.0</td>\n",
       "      <td>25</td>\n",
       "      <td>3</td>\n",
       "      <td>1.0</td>\n",
       "      <td>0.50</td>\n",
       "      <td>93.704912</td>\n",
       "    </tr>\n",
       "    <tr>\n",
       "      <th>4</th>\n",
       "      <td>Almond_Delight</td>\n",
       "      <td>R</td>\n",
       "      <td>C</td>\n",
       "      <td>110</td>\n",
       "      <td>2</td>\n",
       "      <td>2</td>\n",
       "      <td>200</td>\n",
       "      <td>1.0</td>\n",
       "      <td>14.0</td>\n",
       "      <td>8.0</td>\n",
       "      <td>NaN</td>\n",
       "      <td>25</td>\n",
       "      <td>3</td>\n",
       "      <td>1.0</td>\n",
       "      <td>0.75</td>\n",
       "      <td>34.384843</td>\n",
       "    </tr>\n",
       "  </tbody>\n",
       "</table>\n",
       "</div>"
      ],
      "text/plain": [
       "                        name mfr type  calories  protein  fat  sodium  fiber  \\\n",
       "0                  100%_Bran   N    C        70        4    1     130   10.0   \n",
       "1          100%_Natural_Bran   Q    C       120        3    5      15    2.0   \n",
       "2                   All-Bran   K    C        70        4    1     260    9.0   \n",
       "3  All-Bran_with_Extra_Fiber   K    C        50        4    0     140   14.0   \n",
       "4             Almond_Delight   R    C       110        2    2     200    1.0   \n",
       "\n",
       "   carbo  sugars  potass  vitamins  shelf  weight  cups     rating  \n",
       "0    5.0     6.0   280.0        25      3     1.0  0.33  68.402973  \n",
       "1    8.0     8.0   135.0         0      3     1.0  1.00  33.983679  \n",
       "2    7.0     5.0   320.0        25      3     1.0  0.33  59.425505  \n",
       "3    8.0     0.0   330.0        25      3     1.0  0.50  93.704912  \n",
       "4   14.0     8.0     NaN        25      3     1.0  0.75  34.384843  "
      ]
     },
     "execution_count": 6,
     "metadata": {},
     "output_type": "execute_result"
    }
   ],
   "source": [
    "cereal_df.head()\n",
    "#Using this we can look at the set of variables for the dataframe. In this case we are presented with a total of 16 variables."
   ]
  },
  {
   "cell_type": "markdown",
   "id": "numeric-highland",
   "metadata": {},
   "source": [
    "Variables after type are all quantitative/numerical variables. The variables ranging from calories to cups are all nominal variables with rating being a ordinal variable."
   ]
  },
  {
   "cell_type": "markdown",
   "id": "suited-raleigh",
   "metadata": {},
   "source": [
    "<h3> Question 1.b"
   ]
  },
  {
   "cell_type": "code",
   "execution_count": 9,
   "id": "distant-shirt",
   "metadata": {},
   "outputs": [
    {
     "data": {
      "text/html": [
       "<div>\n",
       "<style scoped>\n",
       "    .dataframe tbody tr th:only-of-type {\n",
       "        vertical-align: middle;\n",
       "    }\n",
       "\n",
       "    .dataframe tbody tr th {\n",
       "        vertical-align: top;\n",
       "    }\n",
       "\n",
       "    .dataframe thead th {\n",
       "        text-align: right;\n",
       "    }\n",
       "</style>\n",
       "<table border=\"1\" class=\"dataframe\">\n",
       "  <thead>\n",
       "    <tr style=\"text-align: right;\">\n",
       "      <th></th>\n",
       "      <th>mean</th>\n",
       "      <th>median</th>\n",
       "      <th>min</th>\n",
       "      <th>max</th>\n",
       "      <th>sd</th>\n",
       "    </tr>\n",
       "  </thead>\n",
       "  <tbody>\n",
       "    <tr>\n",
       "      <th>calories</th>\n",
       "      <td>106.883117</td>\n",
       "      <td>110.000000</td>\n",
       "      <td>50</td>\n",
       "      <td>160</td>\n",
       "      <td>19.484119</td>\n",
       "    </tr>\n",
       "    <tr>\n",
       "      <th>carbo</th>\n",
       "      <td>14.802632</td>\n",
       "      <td>14.500000</td>\n",
       "      <td>5.0</td>\n",
       "      <td>23.0</td>\n",
       "      <td>3.907326</td>\n",
       "    </tr>\n",
       "    <tr>\n",
       "      <th>cups</th>\n",
       "      <td>0.821039</td>\n",
       "      <td>0.750000</td>\n",
       "      <td>0.25</td>\n",
       "      <td>1.5</td>\n",
       "      <td>0.232716</td>\n",
       "    </tr>\n",
       "    <tr>\n",
       "      <th>fat</th>\n",
       "      <td>1.012987</td>\n",
       "      <td>1.000000</td>\n",
       "      <td>0</td>\n",
       "      <td>5</td>\n",
       "      <td>1.006473</td>\n",
       "    </tr>\n",
       "    <tr>\n",
       "      <th>fiber</th>\n",
       "      <td>2.151948</td>\n",
       "      <td>2.000000</td>\n",
       "      <td>0.0</td>\n",
       "      <td>14.0</td>\n",
       "      <td>2.383364</td>\n",
       "    </tr>\n",
       "    <tr>\n",
       "      <th>mfr</th>\n",
       "      <td>NaN</td>\n",
       "      <td>NaN</td>\n",
       "      <td>A</td>\n",
       "      <td>R</td>\n",
       "      <td>NaN</td>\n",
       "    </tr>\n",
       "    <tr>\n",
       "      <th>name</th>\n",
       "      <td>NaN</td>\n",
       "      <td>NaN</td>\n",
       "      <td>100%_Bran</td>\n",
       "      <td>Wheaties_Honey_Gold</td>\n",
       "      <td>NaN</td>\n",
       "    </tr>\n",
       "    <tr>\n",
       "      <th>potass</th>\n",
       "      <td>98.666667</td>\n",
       "      <td>90.000000</td>\n",
       "      <td>15.0</td>\n",
       "      <td>330.0</td>\n",
       "      <td>70.410636</td>\n",
       "    </tr>\n",
       "    <tr>\n",
       "      <th>protein</th>\n",
       "      <td>2.545455</td>\n",
       "      <td>3.000000</td>\n",
       "      <td>1</td>\n",
       "      <td>6</td>\n",
       "      <td>1.094790</td>\n",
       "    </tr>\n",
       "    <tr>\n",
       "      <th>rating</th>\n",
       "      <td>42.665705</td>\n",
       "      <td>40.400208</td>\n",
       "      <td>18.042851</td>\n",
       "      <td>93.704912</td>\n",
       "      <td>14.047289</td>\n",
       "    </tr>\n",
       "    <tr>\n",
       "      <th>shelf</th>\n",
       "      <td>2.207792</td>\n",
       "      <td>2.000000</td>\n",
       "      <td>1</td>\n",
       "      <td>3</td>\n",
       "      <td>0.832524</td>\n",
       "    </tr>\n",
       "    <tr>\n",
       "      <th>sodium</th>\n",
       "      <td>159.675325</td>\n",
       "      <td>180.000000</td>\n",
       "      <td>0</td>\n",
       "      <td>320</td>\n",
       "      <td>83.832295</td>\n",
       "    </tr>\n",
       "    <tr>\n",
       "      <th>sugars</th>\n",
       "      <td>7.026316</td>\n",
       "      <td>7.000000</td>\n",
       "      <td>0.0</td>\n",
       "      <td>15.0</td>\n",
       "      <td>4.378656</td>\n",
       "    </tr>\n",
       "    <tr>\n",
       "      <th>type</th>\n",
       "      <td>NaN</td>\n",
       "      <td>NaN</td>\n",
       "      <td>C</td>\n",
       "      <td>H</td>\n",
       "      <td>NaN</td>\n",
       "    </tr>\n",
       "    <tr>\n",
       "      <th>vitamins</th>\n",
       "      <td>28.246753</td>\n",
       "      <td>25.000000</td>\n",
       "      <td>0</td>\n",
       "      <td>100</td>\n",
       "      <td>22.342523</td>\n",
       "    </tr>\n",
       "    <tr>\n",
       "      <th>weight</th>\n",
       "      <td>1.029610</td>\n",
       "      <td>1.000000</td>\n",
       "      <td>0.5</td>\n",
       "      <td>1.5</td>\n",
       "      <td>0.150477</td>\n",
       "    </tr>\n",
       "  </tbody>\n",
       "</table>\n",
       "</div>"
      ],
      "text/plain": [
       "                mean      median        min                  max         sd\n",
       "calories  106.883117  110.000000         50                  160  19.484119\n",
       "carbo      14.802632   14.500000        5.0                 23.0   3.907326\n",
       "cups        0.821039    0.750000       0.25                  1.5   0.232716\n",
       "fat         1.012987    1.000000          0                    5   1.006473\n",
       "fiber       2.151948    2.000000        0.0                 14.0   2.383364\n",
       "mfr              NaN         NaN          A                    R        NaN\n",
       "name             NaN         NaN  100%_Bran  Wheaties_Honey_Gold        NaN\n",
       "potass     98.666667   90.000000       15.0                330.0  70.410636\n",
       "protein     2.545455    3.000000          1                    6   1.094790\n",
       "rating     42.665705   40.400208  18.042851            93.704912  14.047289\n",
       "shelf       2.207792    2.000000          1                    3   0.832524\n",
       "sodium    159.675325  180.000000          0                  320  83.832295\n",
       "sugars      7.026316    7.000000        0.0                 15.0   4.378656\n",
       "type             NaN         NaN          C                    H        NaN\n",
       "vitamins   28.246753   25.000000          0                  100  22.342523\n",
       "weight      1.029610    1.000000        0.5                  1.5   0.150477"
      ]
     },
     "execution_count": 9,
     "metadata": {},
     "output_type": "execute_result"
    }
   ],
   "source": [
    "pd.DataFrame({'mean': cereal_df.mean(),\n",
    "              'median': cereal_df.median(),\n",
    "              'min': cereal_df.min(),\n",
    "              'max': cereal_df.max(),\n",
    "              'sd': cereal_df.std()\n",
    "            })\n",
    "#This is a sidplay of each variables mean, median, min, max, and standard deviation"
   ]
  },
  {
   "cell_type": "markdown",
   "id": "rising-timeline",
   "metadata": {},
   "source": [
    "<h3>Question 1.c"
   ]
  },
  {
   "cell_type": "code",
   "execution_count": 10,
   "id": "selected-issue",
   "metadata": {},
   "outputs": [],
   "source": [
    "import seaborn as sns"
   ]
  },
  {
   "cell_type": "code",
   "execution_count": 20,
   "id": "trained-protection",
   "metadata": {},
   "outputs": [
    {
     "data": {
      "text/plain": [
       "<AxesSubplot:xlabel='calories', ylabel='Count'>"
      ]
     },
     "execution_count": 20,
     "metadata": {},
     "output_type": "execute_result"
    },
    {
     "data": {
      "image/png": "[encoded data removed]",
      "text/plain": [
       "<Figure size 432x288 with 1 Axes>"
      ]
     },
     "metadata": {
      "needs_background": "light"
     },
     "output_type": "display_data"
    }
   ],
   "source": [
    "sns.histplot(x='calories', data=cereal_df)"
   ]
  },
  {
   "cell_type": "code",
   "execution_count": 21,
   "id": "wrong-explorer",
   "metadata": {},
   "outputs": [
    {
     "data": {
      "text/plain": [
       "<AxesSubplot:xlabel='protein', ylabel='Count'>"
      ]
     },
     "execution_count": 21,
     "metadata": {},
     "output_type": "execute_result"
    },
    {
     "data": {
      "image/png": "[encoded data removed]",
      "text/plain": [
       "<Figure size 432x288 with 1 Axes>"
      ]
     },
     "metadata": {
      "needs_background": "light"
     },
     "output_type": "display_data"
    }
   ],
   "source": [
    "sns.histplot(x='protein', data=cereal_df)"
   ]
  },
  {
   "cell_type": "code",
   "execution_count": 22,
   "id": "convinced-melissa",
   "metadata": {},
   "outputs": [
    {
     "data": {
      "text/plain": [
       "<AxesSubplot:xlabel='fat', ylabel='Count'>"
      ]
     },
     "execution_count": 22,
     "metadata": {},
     "output_type": "execute_result"
    },
    {
     "data": {
      "image/png": "[encoded data removed]",
      "text/plain": [
       "<Figure size 432x288 with 1 Axes>"
      ]
     },
     "metadata": {
      "needs_background": "light"
     },
     "output_type": "display_data"
    }
   ],
   "source": [
    "sns.histplot(x='fat', data=cereal_df)"
   ]
  },
  {
   "cell_type": "code",
   "execution_count": 23,
   "id": "surface-signature",
   "metadata": {},
   "outputs": [
    {
     "data": {
      "text/plain": [
       "<AxesSubplot:xlabel='sodium', ylabel='Count'>"
      ]
     },
     "execution_count": 23,
     "metadata": {},
     "output_type": "execute_result"
    },
    {
     "data": {
      "image/png": "[encoded data removed]",
      "text/plain": [
       "<Figure size 432x288 with 1 Axes>"
      ]
     },
     "metadata": {
      "needs_background": "light"
     },
     "output_type": "display_data"
    }
   ],
   "source": [
    "sns.histplot(x='sodium', data=cereal_df)"
   ]
  },
  {
   "cell_type": "code",
   "execution_count": 24,
   "id": "conservative-honor",
   "metadata": {},
   "outputs": [
    {
     "data": {
      "text/plain": [
       "<AxesSubplot:xlabel='fiber', ylabel='Count'>"
      ]
     },
     "execution_count": 24,
     "metadata": {},
     "output_type": "execute_result"
    },
    {
     "data": {
      "image/png": "[encoded data removed]",
      "text/plain": [
       "<Figure size 432x288 with 1 Axes>"
      ]
     },
     "metadata": {
      "needs_background": "light"
     },
     "output_type": "display_data"
    }
   ],
   "source": [
    "sns.histplot(x='fiber', data=cereal_df)"
   ]
  },
  {
   "cell_type": "code",
   "execution_count": 25,
   "id": "voluntary-equation",
   "metadata": {},
   "outputs": [
    {
     "data": {
      "text/plain": [
       "<AxesSubplot:xlabel='carbo', ylabel='Count'>"
      ]
     },
     "execution_count": 25,
     "metadata": {},
     "output_type": "execute_result"
    },
    {
     "data": {
      "image/png": "[encoded data removed]",
      "text/plain": [
       "<Figure size 432x288 with 1 Axes>"
      ]
     },
     "metadata": {
      "needs_background": "light"
     },
     "output_type": "display_data"
    }
   ],
   "source": [
    "sns.histplot(x='carbo', data=cereal_df)"
   ]
  },
  {
   "cell_type": "code",
   "execution_count": 26,
   "id": "hidden-shannon",
   "metadata": {},
   "outputs": [
    {
     "data": {
      "text/plain": [
       "<AxesSubplot:xlabel='sugars', ylabel='Count'>"
      ]
     },
     "execution_count": 26,
     "metadata": {},
     "output_type": "execute_result"
    },
    {
     "data": {
      "image/png": "[encoded data removed]",
      "text/plain": [
       "<Figure size 432x288 with 1 Axes>"
      ]
     },
     "metadata": {
      "needs_background": "light"
     },
     "output_type": "display_data"
    }
   ],
   "source": [
    "sns.histplot(x='sugars', data=cereal_df)"
   ]
  },
  {
   "cell_type": "code",
   "execution_count": 27,
   "id": "growing-maldives",
   "metadata": {},
   "outputs": [
    {
     "data": {
      "text/plain": [
       "<AxesSubplot:xlabel='potass', ylabel='Count'>"
      ]
     },
     "execution_count": 27,
     "metadata": {},
     "output_type": "execute_result"
    },
    {
     "data": {
      "image/png": "[encoded data removed]",
      "text/plain": [
       "<Figure size 432x288 with 1 Axes>"
      ]
     },
     "metadata": {
      "needs_background": "light"
     },
     "output_type": "display_data"
    }
   ],
   "source": [
    "sns.histplot(x='potass', data=cereal_df)"
   ]
  },
  {
   "cell_type": "code",
   "execution_count": 28,
   "id": "bridal-oakland",
   "metadata": {},
   "outputs": [
    {
     "data": {
      "text/plain": [
       "<AxesSubplot:xlabel='vitamins', ylabel='Count'>"
      ]
     },
     "execution_count": 28,
     "metadata": {},
     "output_type": "execute_result"
    },
    {
     "data": {
      "image/png": "[encoded data removed]",
      "text/plain": [
       "<Figure size 432x288 with 1 Axes>"
      ]
     },
     "metadata": {
      "needs_background": "light"
     },
     "output_type": "display_data"
    }
   ],
   "source": [
    "sns.histplot(x='vitamins', data=cereal_df)"
   ]
  },
  {
   "cell_type": "code",
   "execution_count": 29,
   "id": "nuclear-nicaragua",
   "metadata": {},
   "outputs": [
    {
     "data": {
      "text/plain": [
       "<AxesSubplot:xlabel='shelf', ylabel='Count'>"
      ]
     },
     "execution_count": 29,
     "metadata": {},
     "output_type": "execute_result"
    },
    {
     "data": {
      "image/png": "[encoded data removed]",
      "text/plain": [
       "<Figure size 432x288 with 1 Axes>"
      ]
     },
     "metadata": {
      "needs_background": "light"
     },
     "output_type": "display_data"
    }
   ],
   "source": [
    "sns.histplot(x='shelf', data=cereal_df)"
   ]
  },
  {
   "cell_type": "code",
   "execution_count": 31,
   "id": "artistic-entertainment",
   "metadata": {},
   "outputs": [
    {
     "data": {
      "text/plain": [
       "<AxesSubplot:xlabel='weight', ylabel='Count'>"
      ]
     },
     "execution_count": 31,
     "metadata": {},
     "output_type": "execute_result"
    },
    {
     "data": {
      "image/png": "[encoded data removed]",
      "text/plain": [
       "<Figure size 432x288 with 1 Axes>"
      ]
     },
     "metadata": {
      "needs_background": "light"
     },
     "output_type": "display_data"
    }
   ],
   "source": [
    "sns.histplot(x='weight', data=cereal_df)"
   ]
  },
  {
   "cell_type": "code",
   "execution_count": 32,
   "id": "stone-jonathan",
   "metadata": {},
   "outputs": [
    {
     "data": {
      "text/plain": [
       "<AxesSubplot:xlabel='cups', ylabel='Count'>"
      ]
     },
     "execution_count": 32,
     "metadata": {},
     "output_type": "execute_result"
    },
    {
     "data": {
      "image/png": "[encoded data removed]",
      "text/plain": [
       "<Figure size 432x288 with 1 Axes>"
      ]
     },
     "metadata": {
      "needs_background": "light"
     },
     "output_type": "display_data"
    }
   ],
   "source": [
    "sns.histplot(x='cups', data=cereal_df)"
   ]
  },
  {
   "cell_type": "code",
   "execution_count": 34,
   "id": "entire-doctor",
   "metadata": {},
   "outputs": [
    {
     "data": {
      "text/plain": [
       "<AxesSubplot:xlabel='rating', ylabel='Count'>"
      ]
     },
     "execution_count": 34,
     "metadata": {},
     "output_type": "execute_result"
    },
    {
     "data": {
      "image/png": "[encoded data removed]",
      "text/plain": [
       "<Figure size 432x288 with 1 Axes>"
      ]
     },
     "metadata": {
      "needs_background": "light"
     },
     "output_type": "display_data"
    }
   ],
   "source": [
    "sns.histplot(x='rating', data=cereal_df)"
   ]
  },
  {
   "cell_type": "markdown",
   "id": "blessed-assist",
   "metadata": {},
   "source": [
    "i. After comparing each histogram we can see that sodium and potass as the largest amount of variance. \n",
    "<br>\n",
    "ii. In terms of the most skewed variables, that would be between potass and fiber which both have a right skewed histogram\n",
    "<br>\n",
    "ii. In terms of extreme values, I can see is the few accounts of nearly 100 for vitamins and the 14 count on fiber"
   ]
  },
  {
   "cell_type": "markdown",
   "id": "architectural-ability",
   "metadata": {},
   "source": [
    "<h3> Question 1.d"
   ]
  },
  {
   "cell_type": "code",
   "execution_count": 42,
   "id": "greatest-toner",
   "metadata": {},
   "outputs": [
    {
     "data": {
      "image/png": "[encoded data removed]",
      "text/plain": [
       "<Figure size 360x360 with 1 Axes>"
      ]
     },
     "metadata": {
      "needs_background": "light"
     },
     "output_type": "display_data"
    }
   ],
   "source": [
    "ax = sns.catplot(x=\"type\", y=\"calories\", kind=\"box\", data=cereal_df)"
   ]
  },
  {
   "cell_type": "markdown",
   "id": "entitled-rouge",
   "metadata": {},
   "source": [
    "This plot shows us the range of calories dependent on the type of cereal, that being either cold or hot. In our case we can see that the hot cereal does not have a distribution of calories and all instances of hot cereal are 100 calories."
   ]
  },
  {
   "cell_type": "markdown",
   "id": "received-grain",
   "metadata": {},
   "source": [
    "<h3>Question 1.e"
   ]
  },
  {
   "cell_type": "code",
   "execution_count": 43,
   "id": "representative-welding",
   "metadata": {},
   "outputs": [
    {
     "data": {
      "image/png": "[encoded data removed]",
      "text/plain": [
       "<Figure size 360x360 with 1 Axes>"
      ]
     },
     "metadata": {
      "needs_background": "light"
     },
     "output_type": "display_data"
    }
   ],
   "source": [
    "ax = sns.catplot(x=\"shelf\", y=\"rating\", kind=\"box\", data=cereal_df)"
   ]
  },
  {
   "cell_type": "markdown",
   "id": "institutional-confidentiality",
   "metadata": {},
   "source": [
    "Keeping all three shelf heights does give us the most information when compared to ratings, but the real comparison could be done by looking at the 1 and 3 shelves."
   ]
  },
  {
   "cell_type": "markdown",
   "id": "applied-prayer",
   "metadata": {},
   "source": [
    "<h3>Question 1.f"
   ]
  },
  {
   "cell_type": "code",
   "execution_count": 52,
   "id": "young-salmon",
   "metadata": {},
   "outputs": [
    {
     "data": {
      "image/png": "[encoded data removed]",
      "text/plain": [
       "<Figure size 432x288 with 2 Axes>"
      ]
     },
     "metadata": {
      "needs_background": "light"
     },
     "output_type": "display_data"
    }
   ],
   "source": [
    "cereal_corr = cereal_df.corr()\n",
    "#we are utilizing the corr() function to see correlation between variables\n",
    "ax = sns.heatmap(cereal_corr, vmin=-1, vmax=1, cmap=\"YlGnBu\")"
   ]
  },
  {
   "cell_type": "markdown",
   "id": "satellite-aging",
   "metadata": {},
   "source": [
    "i. Fiber and potass are the two most correlated variables.\n",
    "<br>\n",
    "ii. We can reduce the number of variables by removing one variable from a highly correlated pair. \n",
    "<br>\n",
    "iii. If we normalize this data we would most likely be met with a a different correlation. This is because the variables are not all measured in the same units so by changing to a uniform measurement it could alter the correlation. "
   ]
  },
  {
   "cell_type": "markdown",
   "id": "normal-charleston",
   "metadata": {},
   "source": [
    "<h3> Question 1.g"
   ]
  },
  {
   "cell_type": "markdown",
   "id": "french-verification",
   "metadata": {},
   "source": [
    "The first PC repreesents a correlation between the original variables. Every PC shows correlation to the variables, with some showing stonger correlation to different variables. In our case the first PC shows a strong negative correlation to sodium. "
   ]
  },
  {
   "cell_type": "markdown",
   "id": "portable-northeast",
   "metadata": {},
   "source": [
    "<h3> Question 2.a"
   ]
  },
  {
   "cell_type": "code",
   "execution_count": 24,
   "id": "celtic-entity",
   "metadata": {},
   "outputs": [
    {
     "name": "stdout",
     "output_type": "stream",
     "text": [
      "College Name                 object\n",
      "State                        object\n",
      "Public (1)/ Private (2)       int64\n",
      "# appli. rec'd              float64\n",
      "# appl. accepted            float64\n",
      "# new stud. enrolled        float64\n",
      "% new stud. from top 10%    float64\n",
      "% new stud. from top 25%    float64\n",
      "# FT undergrad              float64\n",
      "# PT undergrad              float64\n",
      "in-state tuition            float64\n",
      "out-of-state tuition        float64\n",
      "room                        float64\n",
      "board                       float64\n",
      "add. fees                   float64\n",
      "estim. book costs           float64\n",
      "estim. personal $           float64\n",
      "% fac. w/PHD                float64\n",
      "stud./fac. ratio            float64\n",
      "Graduation rate             float64\n",
      "dtype: object\n"
     ]
    }
   ],
   "source": [
    "university_df = pd.read_csv(DATA / \"Universities.csv\")\n",
    "print(university_df.dtypes)"
   ]
  },
  {
   "cell_type": "markdown",
   "id": "solved-picture",
   "metadata": {},
   "source": [
    "<h3> Question 2.b"
   ]
  },
  {
   "cell_type": "code",
   "execution_count": null,
   "id": "simple-twist",
   "metadata": {},
   "outputs": [],
   "source": []
  },
  {
   "cell_type": "markdown",
   "id": "gorgeous-fantasy",
   "metadata": {},
   "source": [
    "<h3>Question 3.a"
   ]
  },
  {
   "cell_type": "code",
   "execution_count": 29,
   "id": "dominant-minutes",
   "metadata": {},
   "outputs": [
    {
     "name": "stdout",
     "output_type": "stream",
     "text": [
      "Id                   float64\n",
      "Model                 object\n",
      "Price                float64\n",
      "Age_08_04            float64\n",
      "Mfg_Month            float64\n",
      "Mfg_Year             float64\n",
      "KM                   float64\n",
      "Fuel_Type             object\n",
      "HP                   float64\n",
      "Met_Color            float64\n",
      "Color                 object\n",
      "Automatic            float64\n",
      "CC                   float64\n",
      "Doors                float64\n",
      "Cylinders            float64\n",
      "Gears                float64\n",
      "Quarterly_Tax        float64\n",
      "Weight               float64\n",
      "Mfr_Guarantee        float64\n",
      "BOVAG_Guarantee      float64\n",
      "Guarantee_Period     float64\n",
      "ABS                  float64\n",
      "Airbag_1             float64\n",
      "Airbag_2             float64\n",
      "Airco                float64\n",
      "Automatic_airco      float64\n",
      "Boardcomputer        float64\n",
      "CD_Player            float64\n",
      "Central_Lock         float64\n",
      "Powered_Windows      float64\n",
      "Power_Steering       float64\n",
      "Radio                float64\n",
      "Mistlamps            float64\n",
      "Sport_Model          float64\n",
      "Backseat_Divider     float64\n",
      "Metallic_Rim         float64\n",
      "Radio_cassette       float64\n",
      "Parking_Assistant    float64\n",
      "Tow_Bar              float64\n",
      "dtype: object\n"
     ]
    }
   ],
   "source": [
    "Toyota_df = pd.read_csv(DATA / \"ToyotaCorolla.csv\")\n",
    "print(Toyota_df.dtypes)"
   ]
  },
  {
   "cell_type": "markdown",
   "id": "absent-silence",
   "metadata": {},
   "source": [
    "The categorical variables are Model, Fuel_Type, and Color"
   ]
  },
  {
   "cell_type": "markdown",
   "id": "armed-jurisdiction",
   "metadata": {},
   "source": [
    "<h3> Question 3.b"
   ]
  },
  {
   "cell_type": "markdown",
   "id": "separate-marker",
   "metadata": {},
   "source": [
    "The relationship between a categorical variable and the derived binary dummy variables are that they represent a 0 or a 1 for true or false of that category. If a categorical variable has 2 choices then two binary dummies could be made to represent which choice was made."
   ]
  },
  {
   "cell_type": "markdown",
   "id": "arctic-pendant",
   "metadata": {},
   "source": [
    "<h3> Question 3.c"
   ]
  },
  {
   "cell_type": "markdown",
   "id": "brown-objective",
   "metadata": {},
   "source": [
    "N or N-1 binary dummy variables is required to capture the information of a categorical variable with N categories."
   ]
  },
  {
   "cell_type": "markdown",
   "id": "opposite-range",
   "metadata": {},
   "source": [
    "<h3> Question 3.d"
   ]
  },
  {
   "cell_type": "code",
   "execution_count": 30,
   "id": "trying-spider",
   "metadata": {},
   "outputs": [],
   "source": [
    "Toyota_df = pd.get_dummies(Toyota_df, prefix_sep='_', drop_first=True)"
   ]
  },
  {
   "cell_type": "code",
   "execution_count": 34,
   "id": "asian-andorra",
   "metadata": {},
   "outputs": [
    {
     "data": {
      "text/html": [
       "<div>\n",
       "<style scoped>\n",
       "    .dataframe tbody tr th:only-of-type {\n",
       "        vertical-align: middle;\n",
       "    }\n",
       "\n",
       "    .dataframe tbody tr th {\n",
       "        vertical-align: top;\n",
       "    }\n",
       "\n",
       "    .dataframe thead th {\n",
       "        text-align: right;\n",
       "    }\n",
       "</style>\n",
       "<table border=\"1\" class=\"dataframe\">\n",
       "  <thead>\n",
       "    <tr style=\"text-align: right;\">\n",
       "      <th></th>\n",
       "      <th>Id</th>\n",
       "      <th>Price</th>\n",
       "      <th>Age_08_04</th>\n",
       "      <th>Mfg_Month</th>\n",
       "      <th>Mfg_Year</th>\n",
       "      <th>KM</th>\n",
       "      <th>HP</th>\n",
       "      <th>Met_Color</th>\n",
       "      <th>Automatic</th>\n",
       "      <th>CC</th>\n",
       "      <th>...</th>\n",
       "      <th>Fuel_Type_Petrol</th>\n",
       "      <th>Color_Black</th>\n",
       "      <th>Color_Blue</th>\n",
       "      <th>Color_Green</th>\n",
       "      <th>Color_Grey</th>\n",
       "      <th>Color_Red</th>\n",
       "      <th>Color_Silver</th>\n",
       "      <th>Color_Violet</th>\n",
       "      <th>Color_White</th>\n",
       "      <th>Color_Yellow</th>\n",
       "    </tr>\n",
       "  </thead>\n",
       "  <tbody>\n",
       "    <tr>\n",
       "      <th>0</th>\n",
       "      <td>NaN</td>\n",
       "      <td>NaN</td>\n",
       "      <td>NaN</td>\n",
       "      <td>NaN</td>\n",
       "      <td>NaN</td>\n",
       "      <td>NaN</td>\n",
       "      <td>NaN</td>\n",
       "      <td>NaN</td>\n",
       "      <td>NaN</td>\n",
       "      <td>NaN</td>\n",
       "      <td>...</td>\n",
       "      <td>0</td>\n",
       "      <td>0</td>\n",
       "      <td>0</td>\n",
       "      <td>0</td>\n",
       "      <td>0</td>\n",
       "      <td>0</td>\n",
       "      <td>0</td>\n",
       "      <td>0</td>\n",
       "      <td>0</td>\n",
       "      <td>0</td>\n",
       "    </tr>\n",
       "    <tr>\n",
       "      <th>1</th>\n",
       "      <td>1.0</td>\n",
       "      <td>13500.0</td>\n",
       "      <td>23.0</td>\n",
       "      <td>10.0</td>\n",
       "      <td>2002.0</td>\n",
       "      <td>46986.0</td>\n",
       "      <td>90.0</td>\n",
       "      <td>1.0</td>\n",
       "      <td>0.0</td>\n",
       "      <td>2000.0</td>\n",
       "      <td>...</td>\n",
       "      <td>0</td>\n",
       "      <td>0</td>\n",
       "      <td>1</td>\n",
       "      <td>0</td>\n",
       "      <td>0</td>\n",
       "      <td>0</td>\n",
       "      <td>0</td>\n",
       "      <td>0</td>\n",
       "      <td>0</td>\n",
       "      <td>0</td>\n",
       "    </tr>\n",
       "    <tr>\n",
       "      <th>2</th>\n",
       "      <td>NaN</td>\n",
       "      <td>NaN</td>\n",
       "      <td>NaN</td>\n",
       "      <td>NaN</td>\n",
       "      <td>NaN</td>\n",
       "      <td>NaN</td>\n",
       "      <td>NaN</td>\n",
       "      <td>NaN</td>\n",
       "      <td>NaN</td>\n",
       "      <td>NaN</td>\n",
       "      <td>...</td>\n",
       "      <td>0</td>\n",
       "      <td>0</td>\n",
       "      <td>0</td>\n",
       "      <td>0</td>\n",
       "      <td>0</td>\n",
       "      <td>0</td>\n",
       "      <td>0</td>\n",
       "      <td>0</td>\n",
       "      <td>0</td>\n",
       "      <td>0</td>\n",
       "    </tr>\n",
       "    <tr>\n",
       "      <th>3</th>\n",
       "      <td>2.0</td>\n",
       "      <td>13750.0</td>\n",
       "      <td>23.0</td>\n",
       "      <td>10.0</td>\n",
       "      <td>2002.0</td>\n",
       "      <td>72937.0</td>\n",
       "      <td>90.0</td>\n",
       "      <td>1.0</td>\n",
       "      <td>0.0</td>\n",
       "      <td>2000.0</td>\n",
       "      <td>...</td>\n",
       "      <td>0</td>\n",
       "      <td>0</td>\n",
       "      <td>0</td>\n",
       "      <td>0</td>\n",
       "      <td>0</td>\n",
       "      <td>0</td>\n",
       "      <td>1</td>\n",
       "      <td>0</td>\n",
       "      <td>0</td>\n",
       "      <td>0</td>\n",
       "    </tr>\n",
       "    <tr>\n",
       "      <th>4</th>\n",
       "      <td>NaN</td>\n",
       "      <td>NaN</td>\n",
       "      <td>NaN</td>\n",
       "      <td>NaN</td>\n",
       "      <td>NaN</td>\n",
       "      <td>NaN</td>\n",
       "      <td>NaN</td>\n",
       "      <td>NaN</td>\n",
       "      <td>NaN</td>\n",
       "      <td>NaN</td>\n",
       "      <td>...</td>\n",
       "      <td>0</td>\n",
       "      <td>0</td>\n",
       "      <td>0</td>\n",
       "      <td>0</td>\n",
       "      <td>0</td>\n",
       "      <td>0</td>\n",
       "      <td>0</td>\n",
       "      <td>0</td>\n",
       "      <td>0</td>\n",
       "      <td>0</td>\n",
       "    </tr>\n",
       "  </tbody>\n",
       "</table>\n",
       "<p>5 rows × 365 columns</p>\n",
       "</div>"
      ],
      "text/plain": [
       "    Id    Price  Age_08_04  Mfg_Month  Mfg_Year       KM    HP  Met_Color  \\\n",
       "0  NaN      NaN        NaN        NaN       NaN      NaN   NaN        NaN   \n",
       "1  1.0  13500.0       23.0       10.0    2002.0  46986.0  90.0        1.0   \n",
       "2  NaN      NaN        NaN        NaN       NaN      NaN   NaN        NaN   \n",
       "3  2.0  13750.0       23.0       10.0    2002.0  72937.0  90.0        1.0   \n",
       "4  NaN      NaN        NaN        NaN       NaN      NaN   NaN        NaN   \n",
       "\n",
       "   Automatic      CC  ...  Fuel_Type_Petrol  Color_Black  Color_Blue  \\\n",
       "0        NaN     NaN  ...                 0            0           0   \n",
       "1        0.0  2000.0  ...                 0            0           1   \n",
       "2        NaN     NaN  ...                 0            0           0   \n",
       "3        0.0  2000.0  ...                 0            0           0   \n",
       "4        NaN     NaN  ...                 0            0           0   \n",
       "\n",
       "   Color_Green  Color_Grey  Color_Red  Color_Silver  Color_Violet  \\\n",
       "0            0           0          0             0             0   \n",
       "1            0           0          0             0             0   \n",
       "2            0           0          0             0             0   \n",
       "3            0           0          0             1             0   \n",
       "4            0           0          0             0             0   \n",
       "\n",
       "   Color_White  Color_Yellow  \n",
       "0            0             0  \n",
       "1            0             0  \n",
       "2            0             0  \n",
       "3            0             0  \n",
       "4            0             0  \n",
       "\n",
       "[5 rows x 365 columns]"
      ]
     },
     "execution_count": 34,
     "metadata": {},
     "output_type": "execute_result"
    }
   ],
   "source": [
    "Toyota_df.head(5)"
   ]
  },
  {
   "cell_type": "markdown",
   "id": "severe-uruguay",
   "metadata": {},
   "source": [
    "Look at the new dummy variables created for the categorical variable, we can see that Color_Blue was created for Color. This dummy variables shows a 0 or a 1. A 0 represents a no and a 1 represents a yes. For this instance the only 1 we would see is the Color_Blue because the categorical variable had listed Blue as the data. "
   ]
  },
  {
   "cell_type": "markdown",
   "id": "exact-windows",
   "metadata": {},
   "source": [
    "<h3> Question 3.e"
   ]
  },
  {
   "cell_type": "code",
   "execution_count": 35,
   "id": "prepared-hacker",
   "metadata": {},
   "outputs": [
    {
     "data": {
      "text/html": [
       "<div>\n",
       "<style scoped>\n",
       "    .dataframe tbody tr th:only-of-type {\n",
       "        vertical-align: middle;\n",
       "    }\n",
       "\n",
       "    .dataframe tbody tr th {\n",
       "        vertical-align: top;\n",
       "    }\n",
       "\n",
       "    .dataframe thead th {\n",
       "        text-align: right;\n",
       "    }\n",
       "</style>\n",
       "<table border=\"1\" class=\"dataframe\">\n",
       "  <thead>\n",
       "    <tr style=\"text-align: right;\">\n",
       "      <th></th>\n",
       "      <th>Id</th>\n",
       "      <th>Price</th>\n",
       "      <th>Age_08_04</th>\n",
       "      <th>Mfg_Month</th>\n",
       "      <th>Mfg_Year</th>\n",
       "      <th>KM</th>\n",
       "      <th>HP</th>\n",
       "      <th>Met_Color</th>\n",
       "      <th>Automatic</th>\n",
       "      <th>CC</th>\n",
       "      <th>...</th>\n",
       "      <th>Fuel_Type_Petrol</th>\n",
       "      <th>Color_Black</th>\n",
       "      <th>Color_Blue</th>\n",
       "      <th>Color_Green</th>\n",
       "      <th>Color_Grey</th>\n",
       "      <th>Color_Red</th>\n",
       "      <th>Color_Silver</th>\n",
       "      <th>Color_Violet</th>\n",
       "      <th>Color_White</th>\n",
       "      <th>Color_Yellow</th>\n",
       "    </tr>\n",
       "  </thead>\n",
       "  <tbody>\n",
       "    <tr>\n",
       "      <th>Id</th>\n",
       "      <td>1.00</td>\n",
       "      <td>-0.74</td>\n",
       "      <td>0.91</td>\n",
       "      <td>0.04</td>\n",
       "      <td>-0.92</td>\n",
       "      <td>0.27</td>\n",
       "      <td>-0.11</td>\n",
       "      <td>-0.08</td>\n",
       "      <td>0.07</td>\n",
       "      <td>-0.12</td>\n",
       "      <td>...</td>\n",
       "      <td>0.16</td>\n",
       "      <td>-0.02</td>\n",
       "      <td>-0.00</td>\n",
       "      <td>0.08</td>\n",
       "      <td>-0.10</td>\n",
       "      <td>0.07</td>\n",
       "      <td>-0.04</td>\n",
       "      <td>0.00</td>\n",
       "      <td>0.04</td>\n",
       "      <td>-0.04</td>\n",
       "    </tr>\n",
       "    <tr>\n",
       "      <th>Price</th>\n",
       "      <td>-0.74</td>\n",
       "      <td>1.00</td>\n",
       "      <td>-0.88</td>\n",
       "      <td>-0.02</td>\n",
       "      <td>0.89</td>\n",
       "      <td>-0.57</td>\n",
       "      <td>0.31</td>\n",
       "      <td>0.11</td>\n",
       "      <td>0.03</td>\n",
       "      <td>0.13</td>\n",
       "      <td>...</td>\n",
       "      <td>-0.04</td>\n",
       "      <td>0.03</td>\n",
       "      <td>0.01</td>\n",
       "      <td>-0.10</td>\n",
       "      <td>0.17</td>\n",
       "      <td>-0.10</td>\n",
       "      <td>0.03</td>\n",
       "      <td>-0.02</td>\n",
       "      <td>-0.10</td>\n",
       "      <td>0.02</td>\n",
       "    </tr>\n",
       "    <tr>\n",
       "      <th>Age_08_04</th>\n",
       "      <td>0.91</td>\n",
       "      <td>-0.88</td>\n",
       "      <td>1.00</td>\n",
       "      <td>-0.12</td>\n",
       "      <td>-0.98</td>\n",
       "      <td>0.51</td>\n",
       "      <td>-0.16</td>\n",
       "      <td>-0.11</td>\n",
       "      <td>0.03</td>\n",
       "      <td>-0.10</td>\n",
       "      <td>...</td>\n",
       "      <td>0.09</td>\n",
       "      <td>-0.02</td>\n",
       "      <td>-0.03</td>\n",
       "      <td>0.10</td>\n",
       "      <td>-0.14</td>\n",
       "      <td>0.10</td>\n",
       "      <td>-0.03</td>\n",
       "      <td>0.02</td>\n",
       "      <td>0.05</td>\n",
       "      <td>-0.04</td>\n",
       "    </tr>\n",
       "    <tr>\n",
       "      <th>Mfg_Month</th>\n",
       "      <td>0.04</td>\n",
       "      <td>-0.02</td>\n",
       "      <td>-0.12</td>\n",
       "      <td>1.00</td>\n",
       "      <td>-0.06</td>\n",
       "      <td>-0.02</td>\n",
       "      <td>-0.04</td>\n",
       "      <td>0.03</td>\n",
       "      <td>0.01</td>\n",
       "      <td>0.04</td>\n",
       "      <td>...</td>\n",
       "      <td>-0.05</td>\n",
       "      <td>0.01</td>\n",
       "      <td>0.06</td>\n",
       "      <td>-0.03</td>\n",
       "      <td>-0.03</td>\n",
       "      <td>0.01</td>\n",
       "      <td>-0.02</td>\n",
       "      <td>-0.03</td>\n",
       "      <td>-0.00</td>\n",
       "      <td>0.00</td>\n",
       "    </tr>\n",
       "    <tr>\n",
       "      <th>Mfg_Year</th>\n",
       "      <td>-0.92</td>\n",
       "      <td>0.89</td>\n",
       "      <td>-0.98</td>\n",
       "      <td>-0.06</td>\n",
       "      <td>1.00</td>\n",
       "      <td>-0.50</td>\n",
       "      <td>0.16</td>\n",
       "      <td>0.10</td>\n",
       "      <td>-0.03</td>\n",
       "      <td>0.09</td>\n",
       "      <td>...</td>\n",
       "      <td>-0.08</td>\n",
       "      <td>0.02</td>\n",
       "      <td>0.02</td>\n",
       "      <td>-0.10</td>\n",
       "      <td>0.14</td>\n",
       "      <td>-0.10</td>\n",
       "      <td>0.03</td>\n",
       "      <td>-0.01</td>\n",
       "      <td>-0.05</td>\n",
       "      <td>0.04</td>\n",
       "    </tr>\n",
       "    <tr>\n",
       "      <th>...</th>\n",
       "      <td>...</td>\n",
       "      <td>...</td>\n",
       "      <td>...</td>\n",
       "      <td>...</td>\n",
       "      <td>...</td>\n",
       "      <td>...</td>\n",
       "      <td>...</td>\n",
       "      <td>...</td>\n",
       "      <td>...</td>\n",
       "      <td>...</td>\n",
       "      <td>...</td>\n",
       "      <td>...</td>\n",
       "      <td>...</td>\n",
       "      <td>...</td>\n",
       "      <td>...</td>\n",
       "      <td>...</td>\n",
       "      <td>...</td>\n",
       "      <td>...</td>\n",
       "      <td>...</td>\n",
       "      <td>...</td>\n",
       "      <td>...</td>\n",
       "    </tr>\n",
       "    <tr>\n",
       "      <th>Color_Red</th>\n",
       "      <td>0.07</td>\n",
       "      <td>-0.10</td>\n",
       "      <td>0.10</td>\n",
       "      <td>0.01</td>\n",
       "      <td>-0.10</td>\n",
       "      <td>0.05</td>\n",
       "      <td>0.01</td>\n",
       "      <td>-0.26</td>\n",
       "      <td>-0.03</td>\n",
       "      <td>-0.01</td>\n",
       "      <td>...</td>\n",
       "      <td>0.29</td>\n",
       "      <td>-0.09</td>\n",
       "      <td>-0.11</td>\n",
       "      <td>-0.09</td>\n",
       "      <td>-0.11</td>\n",
       "      <td>1.00</td>\n",
       "      <td>-0.07</td>\n",
       "      <td>-0.01</td>\n",
       "      <td>-0.03</td>\n",
       "      <td>-0.01</td>\n",
       "    </tr>\n",
       "    <tr>\n",
       "      <th>Color_Silver</th>\n",
       "      <td>-0.04</td>\n",
       "      <td>0.03</td>\n",
       "      <td>-0.03</td>\n",
       "      <td>-0.02</td>\n",
       "      <td>0.03</td>\n",
       "      <td>0.01</td>\n",
       "      <td>0.01</td>\n",
       "      <td>0.10</td>\n",
       "      <td>0.05</td>\n",
       "      <td>-0.00</td>\n",
       "      <td>...</td>\n",
       "      <td>0.18</td>\n",
       "      <td>-0.06</td>\n",
       "      <td>-0.07</td>\n",
       "      <td>-0.06</td>\n",
       "      <td>-0.07</td>\n",
       "      <td>-0.07</td>\n",
       "      <td>1.00</td>\n",
       "      <td>-0.01</td>\n",
       "      <td>-0.02</td>\n",
       "      <td>-0.01</td>\n",
       "    </tr>\n",
       "    <tr>\n",
       "      <th>Color_Violet</th>\n",
       "      <td>0.00</td>\n",
       "      <td>-0.02</td>\n",
       "      <td>0.02</td>\n",
       "      <td>-0.03</td>\n",
       "      <td>-0.01</td>\n",
       "      <td>0.02</td>\n",
       "      <td>-0.01</td>\n",
       "      <td>0.04</td>\n",
       "      <td>-0.01</td>\n",
       "      <td>-0.02</td>\n",
       "      <td>...</td>\n",
       "      <td>0.04</td>\n",
       "      <td>-0.01</td>\n",
       "      <td>-0.01</td>\n",
       "      <td>-0.01</td>\n",
       "      <td>-0.01</td>\n",
       "      <td>-0.01</td>\n",
       "      <td>-0.01</td>\n",
       "      <td>1.00</td>\n",
       "      <td>-0.00</td>\n",
       "      <td>-0.00</td>\n",
       "    </tr>\n",
       "    <tr>\n",
       "      <th>Color_White</th>\n",
       "      <td>0.04</td>\n",
       "      <td>-0.10</td>\n",
       "      <td>0.05</td>\n",
       "      <td>-0.00</td>\n",
       "      <td>-0.05</td>\n",
       "      <td>0.13</td>\n",
       "      <td>-0.09</td>\n",
       "      <td>-0.20</td>\n",
       "      <td>-0.04</td>\n",
       "      <td>0.03</td>\n",
       "      <td>...</td>\n",
       "      <td>0.04</td>\n",
       "      <td>-0.03</td>\n",
       "      <td>-0.03</td>\n",
       "      <td>-0.03</td>\n",
       "      <td>-0.04</td>\n",
       "      <td>-0.03</td>\n",
       "      <td>-0.02</td>\n",
       "      <td>-0.00</td>\n",
       "      <td>1.00</td>\n",
       "      <td>-0.00</td>\n",
       "    </tr>\n",
       "    <tr>\n",
       "      <th>Color_Yellow</th>\n",
       "      <td>-0.04</td>\n",
       "      <td>0.02</td>\n",
       "      <td>-0.04</td>\n",
       "      <td>0.00</td>\n",
       "      <td>0.04</td>\n",
       "      <td>-0.04</td>\n",
       "      <td>-0.00</td>\n",
       "      <td>0.03</td>\n",
       "      <td>-0.01</td>\n",
       "      <td>-0.01</td>\n",
       "      <td>...</td>\n",
       "      <td>0.04</td>\n",
       "      <td>-0.01</td>\n",
       "      <td>-0.01</td>\n",
       "      <td>-0.01</td>\n",
       "      <td>-0.01</td>\n",
       "      <td>-0.01</td>\n",
       "      <td>-0.01</td>\n",
       "      <td>-0.00</td>\n",
       "      <td>-0.00</td>\n",
       "      <td>1.00</td>\n",
       "    </tr>\n",
       "  </tbody>\n",
       "</table>\n",
       "<p>365 rows × 365 columns</p>\n",
       "</div>"
      ],
      "text/plain": [
       "                Id  Price  Age_08_04  Mfg_Month  Mfg_Year    KM    HP  \\\n",
       "Id            1.00  -0.74       0.91       0.04     -0.92  0.27 -0.11   \n",
       "Price        -0.74   1.00      -0.88      -0.02      0.89 -0.57  0.31   \n",
       "Age_08_04     0.91  -0.88       1.00      -0.12     -0.98  0.51 -0.16   \n",
       "Mfg_Month     0.04  -0.02      -0.12       1.00     -0.06 -0.02 -0.04   \n",
       "Mfg_Year     -0.92   0.89      -0.98      -0.06      1.00 -0.50  0.16   \n",
       "...            ...    ...        ...        ...       ...   ...   ...   \n",
       "Color_Red     0.07  -0.10       0.10       0.01     -0.10  0.05  0.01   \n",
       "Color_Silver -0.04   0.03      -0.03      -0.02      0.03  0.01  0.01   \n",
       "Color_Violet  0.00  -0.02       0.02      -0.03     -0.01  0.02 -0.01   \n",
       "Color_White   0.04  -0.10       0.05      -0.00     -0.05  0.13 -0.09   \n",
       "Color_Yellow -0.04   0.02      -0.04       0.00      0.04 -0.04 -0.00   \n",
       "\n",
       "              Met_Color  Automatic    CC  ...  Fuel_Type_Petrol  Color_Black  \\\n",
       "Id                -0.08       0.07 -0.12  ...              0.16        -0.02   \n",
       "Price              0.11       0.03  0.13  ...             -0.04         0.03   \n",
       "Age_08_04         -0.11       0.03 -0.10  ...              0.09        -0.02   \n",
       "Mfg_Month          0.03       0.01  0.04  ...             -0.05         0.01   \n",
       "Mfg_Year           0.10      -0.03  0.09  ...             -0.08         0.02   \n",
       "...                 ...        ...   ...  ...               ...          ...   \n",
       "Color_Red         -0.26      -0.03 -0.01  ...              0.29        -0.09   \n",
       "Color_Silver       0.10       0.05 -0.00  ...              0.18        -0.06   \n",
       "Color_Violet       0.04      -0.01 -0.02  ...              0.04        -0.01   \n",
       "Color_White       -0.20      -0.04  0.03  ...              0.04        -0.03   \n",
       "Color_Yellow       0.03      -0.01 -0.01  ...              0.04        -0.01   \n",
       "\n",
       "              Color_Blue  Color_Green  Color_Grey  Color_Red  Color_Silver  \\\n",
       "Id                 -0.00         0.08       -0.10       0.07         -0.04   \n",
       "Price               0.01        -0.10        0.17      -0.10          0.03   \n",
       "Age_08_04          -0.03         0.10       -0.14       0.10         -0.03   \n",
       "Mfg_Month           0.06        -0.03       -0.03       0.01         -0.02   \n",
       "Mfg_Year            0.02        -0.10        0.14      -0.10          0.03   \n",
       "...                  ...          ...         ...        ...           ...   \n",
       "Color_Red          -0.11        -0.09       -0.11       1.00         -0.07   \n",
       "Color_Silver       -0.07        -0.06       -0.07      -0.07          1.00   \n",
       "Color_Violet       -0.01        -0.01       -0.01      -0.01         -0.01   \n",
       "Color_White        -0.03        -0.03       -0.04      -0.03         -0.02   \n",
       "Color_Yellow       -0.01        -0.01       -0.01      -0.01         -0.01   \n",
       "\n",
       "              Color_Violet  Color_White  Color_Yellow  \n",
       "Id                    0.00         0.04         -0.04  \n",
       "Price                -0.02        -0.10          0.02  \n",
       "Age_08_04             0.02         0.05         -0.04  \n",
       "Mfg_Month            -0.03        -0.00          0.00  \n",
       "Mfg_Year             -0.01        -0.05          0.04  \n",
       "...                    ...          ...           ...  \n",
       "Color_Red            -0.01        -0.03         -0.01  \n",
       "Color_Silver         -0.01        -0.02         -0.01  \n",
       "Color_Violet          1.00        -0.00         -0.00  \n",
       "Color_White          -0.00         1.00         -0.00  \n",
       "Color_Yellow         -0.00        -0.00          1.00  \n",
       "\n",
       "[365 rows x 365 columns]"
      ]
     },
     "execution_count": 35,
     "metadata": {},
     "output_type": "execute_result"
    }
   ],
   "source": [
    "Toyota_df.corr().round(2)"
   ]
  },
  {
   "cell_type": "markdown",
   "id": "informational-friend",
   "metadata": {},
   "source": [
    "There are many different assumptions we can see with the matrix table. <br>\n",
    "-Age and Price have a inverse correlations that is strong showing that as the car age goes up the price of the car goes down. <br>\n",
    "-Mfg_Year and Price have a strong positive correlation showing that as the year of manufacturing increases or the newer a car the more the price of the car is. <br>\n",
    "-Price and KM has a negative correlation showing that as KM goes up the price of car goes up. "
   ]
  },
  {
   "cell_type": "markdown",
   "id": "matched-dutch",
   "metadata": {},
   "source": [
    "<h3> Question 4.a"
   ]
  },
  {
   "cell_type": "markdown",
   "id": "equal-thompson",
   "metadata": {},
   "source": [
    "The \"Proportion of Variance\" is so much higher in PC1 because that is partially the nature of PCA. The PC1 will always be larger than PC2 and so on. This is because the PC1 shows the largest measure of variance in the dataset. "
   ]
  },
  {
   "cell_type": "markdown",
   "id": "neither-namibia",
   "metadata": {},
   "source": [
    "<h3> Question 4.b"
   ]
  },
  {
   "cell_type": "markdown",
   "id": "brown-glenn",
   "metadata": {},
   "source": [
    "When it comes to normalizing the data, this data set need normalization as we can see the bottom of the PC1 for Proline is nearly 1 and this is because of the weight of that specific variable. "
   ]
  }
 ],
 "metadata": {
  "kernelspec": {
   "display_name": "Python 3",
   "language": "python",
   "name": "python3"
  },
  "language_info": {
   "codemirror_mode": {
    "name": "ipython",
    "version": 3
   },
   "file_extension": ".py",
   "mimetype": "text/x-python",
   "name": "python",
   "nbconvert_exporter": "python",
   "pygments_lexer": "ipython3",
   "version": "3.8.5"
  }
 },
 "nbformat": 4,
 "nbformat_minor": 5
}
