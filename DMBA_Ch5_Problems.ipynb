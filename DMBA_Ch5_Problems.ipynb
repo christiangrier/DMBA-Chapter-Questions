{
 "cells": [
  {
   "cell_type": "markdown",
   "id": "sought-porcelain",
   "metadata": {},
   "source": [
    "<h2> Name: Christian Grier"
   ]
  },
  {
   "cell_type": "code",
   "execution_count": 21,
   "id": "secret-maria",
   "metadata": {},
   "outputs": [],
   "source": [
    "from pathlib import Path\n",
    "import math\n",
    "import pandas as pd\n",
    "import numpy as np\n",
    "import matplotlib.pylab as plt\n",
    "import matplotlib.patches as mpat\n",
    "from sklearn.decomposition import PCA\n",
    "from sklearn import preprocessing\n",
    "from sklearn.model_selection import train_test_split \n",
    "from sklearn.linear_model import LinearRegression \n",
    "from sklearn.metrics import accuracy_score, roc_curve, auc\n",
    "from dmba import regressionSummary, classificationSummary\n",
    "from dmba import liftChart, gainsChart\n",
    "DATA = Path(\"C:/Users/chris/Documents/DS 110-DM/data\")"
   ]
  },
  {
   "cell_type": "markdown",
   "id": "purple-tiffany",
   "metadata": {},
   "source": [
    "<h3> Question 1"
   ]
  },
  {
   "cell_type": "markdown",
   "id": "biological-robin",
   "metadata": {},
   "source": [
    "Confusion Matrix  <br>\n",
    "Actual       Predicted   <br>\n",
    "          1        0    <br>\n",
    "1         30       58   <br>\n",
    "0         32       920\n"
   ]
  },
  {
   "cell_type": "markdown",
   "id": "integral-inspector",
   "metadata": {},
   "source": [
    "Overall Error:\n",
    "(58+32)/1040 = .0865 or 8.65%"
   ]
  },
  {
   "cell_type": "markdown",
   "id": "circular-hearts",
   "metadata": {},
   "source": [
    "<h3> Question 2.a\n",
    "   "
   ]
  },
  {
   "cell_type": "markdown",
   "id": "animated-kingdom",
   "metadata": {},
   "source": [
    "If the cutoff for the classification error rate for records that are truely fraudulent could be moved up then we would see an increase in the error rate because non-fradulent records would decrease. If we could do the opposite and lower the cutoff then the opposite would occur with error rate decreasing and fradulent records would increase."
   ]
  },
  {
   "cell_type": "markdown",
   "id": "quarterly-kidney",
   "metadata": {},
   "source": [
    "<h3> Question 2.b"
   ]
  },
  {
   "cell_type": "markdown",
   "id": "valid-palestine",
   "metadata": {},
   "source": [
    "If the cutoff for the classication error rate of records that are truely non-fraudulent could be moved up then we would see a decrease in the fraudulent records as well as a decrease in the error rate. "
   ]
  },
  {
   "cell_type": "markdown",
   "id": "cosmetic-pierre",
   "metadata": {},
   "source": [
    "<h3> Question 3"
   ]
  },
  {
   "cell_type": "markdown",
   "id": "cooked-filling",
   "metadata": {},
   "source": [
    "So this is what I found after doing some digging on US Congressional Bills. On average each congressional cycle (2-years) there is  on average 2-3% of billed enacted into law. This means that each two year period sees roughly 10,000-16,000 bills introduced and only 300-400 get passed each cycle. Some misclassifications that we could encounter with this is that the bill can be registered to different groups of legislature (House or Senate) but it is voted on by both. Parties can also play a role in this as there are different political parties with different agendas. This means that although they are different groups they could be needing the same bill to pass. "
   ]
  },
  {
   "cell_type": "markdown",
   "id": "virgin-storm",
   "metadata": {},
   "source": [
    "<h3> Question 4.a"
   ]
  },
  {
   "cell_type": "markdown",
   "id": "significant-jewelry",
   "metadata": {},
   "source": [
    "The first two bars on the left represent two of the most probably or highest propensity 1's. In our case. The bar furthest to the left shows that we are 6 times more likely to recieve 1's in our data compared to a random sample. The second bar represents a slightly higher than 2 time more likely when compared to a random sample. "
   ]
  },
  {
   "cell_type": "markdown",
   "id": "functioning-apparatus",
   "metadata": {},
   "source": [
    "<h3> Question 4.b"
   ]
  },
  {
   "cell_type": "markdown",
   "id": "bridal-paintball",
   "metadata": {},
   "source": [
    "In practice if we choose the first 10% that would provide us with a slighly higher than 6 time more fraudulent records compared to a random sample of 10%."
   ]
  },
  {
   "cell_type": "markdown",
   "id": "interesting-dialogue",
   "metadata": {},
   "source": [
    "<h3> Question 4.c"
   ]
  },
  {
   "cell_type": "markdown",
   "id": "motivated-emergency",
   "metadata": {},
   "source": [
    "If we recalculate the error rate after adjusting everything to being non-fraudulent then we would have an error rate of 5.96. This is calculated as 100*(62+0)/1040 = 5.96%"
   ]
  },
  {
   "cell_type": "markdown",
   "id": "practical-disease",
   "metadata": {},
   "source": [
    "<h3> Question 4.d"
   ]
  },
  {
   "cell_type": "markdown",
   "id": "acting-furniture",
   "metadata": {},
   "source": [
    "From my understanding, the error rate represents the error of the entire dataset where as the lift chart represents a specific part of the data. In our case the lift chart hold more benefit because we are looking for specific transactions that will work well for us. "
   ]
  },
  {
   "cell_type": "markdown",
   "id": "arbitrary-victoria",
   "metadata": {},
   "source": [
    "<h3> Question 5.a"
   ]
  },
  {
   "cell_type": "markdown",
   "id": "occasional-average",
   "metadata": {},
   "source": [
    "Confusion Matrix<br>\n",
    "Actual     Predicted  Total<br>\n",
    "        1       0<br>\n",
    "1      310      90     400<br>\n",
    "0      130     270     400<br>\n",
    "Total  440     360     800"
   ]
  },
  {
   "cell_type": "markdown",
   "id": "understood-happening",
   "metadata": {},
   "source": [
    "<h3> Question 5.b"
   ]
  },
  {
   "cell_type": "markdown",
   "id": "activated-origin",
   "metadata": {},
   "source": [
    "Both fradulent and non-fraudulent equal totals of 400. Since the percentage of fraudulent was explained as 1% over a sample of 800 we can divide fruadulent by (.01*800) and non-fraudulent by (.99*800). This will equal misclassification rates of 400/8 = 50 and 400/792 = .5050"
   ]
  },
  {
   "cell_type": "markdown",
   "id": "convinced-steam",
   "metadata": {},
   "source": [
    "Looking further we can look at the adjusted Confusion matrix\n",
    "\n",
    "Adjusted Confusion Matrix<br>\n",
    "Actual     Predicted   Total<br>\n",
    "        1       0<br>\n",
    "1      6.2     1.8       8<br>\n",
    "0      257.4   534.6   792<br>\n",
    "Total                  800"
   ]
  },
  {
   "cell_type": "markdown",
   "id": "loaded-magic",
   "metadata": {},
   "source": [
    "<h3> Question 5.c"
   ]
  },
  {
   "cell_type": "markdown",
   "id": "circular-google",
   "metadata": {},
   "source": [
    "I would expect 1% to be fruadulent."
   ]
  },
  {
   "cell_type": "markdown",
   "id": "alert-salmon",
   "metadata": {},
   "source": [
    "<h3> Question 6.a"
   ]
  },
  {
   "cell_type": "markdown",
   "id": "unlikely-congo",
   "metadata": {},
   "source": [
    "I was not really sure how to calulate profits. From how I read the question I would assume that the global mean value is 2500 and since the cost is 2500 it would equal profits of 0."
   ]
  },
  {
   "cell_type": "markdown",
   "id": "respiratory-hands",
   "metadata": {},
   "source": [
    "<h3> Question 6.b"
   ]
  },
  {
   "cell_type": "markdown",
   "id": "solid-curve",
   "metadata": {},
   "source": [
    "If the company wants to average a 2x profit the company should use the 1st decile as the remainder fall below 2x."
   ]
  },
  {
   "cell_type": "markdown",
   "id": "pretty-ontario",
   "metadata": {},
   "source": [
    "<h3> Question 6.c"
   ]
  },
  {
   "cell_type": "markdown",
   "id": "joined-chancellor",
   "metadata": {},
   "source": [
    "Falls back on part(a) where I wasnt sure what the original cutoff was. "
   ]
  },
  {
   "cell_type": "markdown",
   "id": "civic-dryer",
   "metadata": {},
   "source": [
    "<h3> Question 6.d"
   ]
  },
  {
   "cell_type": "markdown",
   "id": "starting-direction",
   "metadata": {},
   "source": [
    "We use this two-stage process for predicting sales instead of developing a model because we can create a more accurate prediction rather than simply developing a model for the new leads. "
   ]
  },
  {
   "cell_type": "markdown",
   "id": "acute-sewing",
   "metadata": {},
   "source": [
    "<h3> Question 7.a"
   ]
  },
  {
   "cell_type": "code",
   "execution_count": 22,
   "id": "juvenile-welsh",
   "metadata": {},
   "outputs": [
    {
     "name": "stdout",
     "output_type": "stream",
     "text": [
      "Probability    float64\n",
      "Class           object\n",
      "dtype: object\n"
     ]
    }
   ],
   "source": [
    "df = pd.read_csv('Question7data.csv')\n",
    "print(df.dtypes)\n",
    "class_names = ['0', '1']"
   ]
  },
  {
   "cell_type": "code",
   "execution_count": 23,
   "id": "gentle-miller",
   "metadata": {},
   "outputs": [
    {
     "name": "stdout",
     "output_type": "stream",
     "text": [
      "Confusion Matrix (Accuracy 0.6000)\n",
      "\n",
      "       Prediction\n",
      "Actual 0 1\n",
      "     0 9 8\n",
      "     1 0 3\n"
     ]
    }
   ],
   "source": [
    "predicted = ['Yes' if p> 0.25 else 'No' for p in df.Probability]\n",
    "classificationSummary(df.Class, predicted, class_names=class_names)"
   ]
  },
  {
   "cell_type": "markdown",
   "id": "copyrighted-guest",
   "metadata": {},
   "source": [
    "<h5> At .25 cutoff   <br>\n",
    "error: 8/20 = .40   <br>\n",
    "sensitivity: 9/(9+8) = .529   <br>\n",
    "specificity: 3/(3) = 1 "
   ]
  },
  {
   "cell_type": "code",
   "execution_count": 24,
   "id": "dirty-custom",
   "metadata": {},
   "outputs": [
    {
     "name": "stdout",
     "output_type": "stream",
     "text": [
      "Confusion Matrix (Accuracy 0.9000)\n",
      "\n",
      "       Prediction\n",
      "Actual  0  1\n",
      "     0 15  2\n",
      "     1  0  3\n"
     ]
    }
   ],
   "source": [
    "predicted = ['Yes' if p> 0.50 else 'No' for p in df.Probability]\n",
    "classificationSummary(df.Class, predicted, class_names=class_names)"
   ]
  },
  {
   "cell_type": "markdown",
   "id": "heard-project",
   "metadata": {},
   "source": [
    "<h5>At .50 cutoff   <br>\n",
    "error: 2/20 = .10   <br>\n",
    "sensitivity: 15/(15+2) = .882   <br>\n",
    "specificity: 3/3 = 1"
   ]
  },
  {
   "cell_type": "code",
   "execution_count": 25,
   "id": "interpreted-focus",
   "metadata": {},
   "outputs": [
    {
     "name": "stdout",
     "output_type": "stream",
     "text": [
      "Confusion Matrix (Accuracy 0.9500)\n",
      "\n",
      "       Prediction\n",
      "Actual  0  1\n",
      "     0 17  0\n",
      "     1  1  2\n"
     ]
    }
   ],
   "source": [
    "predicted = ['Yes' if p> 0.75 else 'No' for p in df.Probability]\n",
    "classificationSummary(df.Class, predicted, class_names=class_names)"
   ]
  },
  {
   "cell_type": "markdown",
   "id": "overhead-prior",
   "metadata": {},
   "source": [
    "<h5>At .75 cutoof   <br>\n",
    "error: 1/20 = .05   <br>\n",
    "sensitivity: 17/17 = 1    <br>\n",
    "specificity: 2/3 = .67"
   ]
  },
  {
   "cell_type": "markdown",
   "id": "beautiful-terrorist",
   "metadata": {},
   "source": [
    "<h3> Question 7.b"
   ]
  },
  {
   "cell_type": "code",
   "execution_count": 26,
   "id": "enabling-implementation",
   "metadata": {},
   "outputs": [
    {
     "data": {
      "image/png": "[encoded data removed]",
      "text/plain": [
       "<Figure size 432x288 with 1 Axes>"
      ]
     },
     "metadata": {
      "needs_background": "light"
     },
     "output_type": "display_data"
    }
   ],
   "source": [
    "liftChart(df.Probability, labelBars=False)\n",
    "plt.tight_layout()\n",
    "plt.show()"
   ]
  },
  {
   "cell_type": "code",
   "execution_count": null,
   "id": "typical-sampling",
   "metadata": {},
   "outputs": [],
   "source": []
  }
 ],
 "metadata": {
  "kernelspec": {
   "display_name": "Python 3",
   "language": "python",
   "name": "python3"
  },
  "language_info": {
   "codemirror_mode": {
    "name": "ipython",
    "version": 3
   },
   "file_extension": ".py",
   "mimetype": "text/x-python",
   "name": "python",
   "nbconvert_exporter": "python",
   "pygments_lexer": "ipython3",
   "version": "3.8.5"
  }
 },
 "nbformat": 4,
 "nbformat_minor": 5
}
