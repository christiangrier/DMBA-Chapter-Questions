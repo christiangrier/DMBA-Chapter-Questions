{
 "cells": [
  {
   "cell_type": "markdown",
   "id": "continuing-bhutan",
   "metadata": {},
   "source": [
    "<h2> Christian Grier"
   ]
  },
  {
   "cell_type": "code",
   "execution_count": 91,
   "id": "junior-fitness",
   "metadata": {},
   "outputs": [],
   "source": [
    "%matplotlib inline\n",
    "from pathlib import Path\n",
    "import pandas as pd\n",
    "from sklearn import preprocessing\n",
    "from sklearn.model_selection import train_test_split\n",
    "from sklearn.metrics import accuracy_score\n",
    "from sklearn.neighbors import NearestNeighbors, KNeighborsClassifier\n",
    "from sklearn.metrics import accuracy_score, confusion_matrix, mean_squared_error\n",
    "import matplotlib.pylab as plt"
   ]
  },
  {
   "cell_type": "code",
   "execution_count": 92,
   "id": "certified-occupation",
   "metadata": {},
   "outputs": [],
   "source": [
    "DATA = Path(\"C:/Users/chris/Documents/DS 110-DM/data\")"
   ]
  },
  {
   "cell_type": "code",
   "execution_count": 93,
   "id": "rolled-reggae",
   "metadata": {},
   "outputs": [],
   "source": [
    "#loading dataframe\n",
    "df = pd.read_csv(DATA / 'UniversalBank.csv')"
   ]
  },
  {
   "cell_type": "markdown",
   "id": "checked-disabled",
   "metadata": {},
   "source": [
    "<h3> Question 7.a"
   ]
  },
  {
   "cell_type": "code",
   "execution_count": 94,
   "id": "distant-queensland",
   "metadata": {},
   "outputs": [
    {
     "name": "stdout",
     "output_type": "stream",
     "text": [
      "ID                      int64\n",
      "Age                     int64\n",
      "Experience              int64\n",
      "Income                  int64\n",
      "ZIP Code                int64\n",
      "Family                  int64\n",
      "CCAvg                 float64\n",
      "Education               int64\n",
      "Mortgage                int64\n",
      "Personal Loan           int64\n",
      "Securities Account      int64\n",
      "CD Account              int64\n",
      "Online                  int64\n",
      "CreditCard              int64\n",
      "dtype: object\n"
     ]
    }
   ],
   "source": [
    "print(df.dtypes)"
   ]
  },
  {
   "cell_type": "code",
   "execution_count": 95,
   "id": "cleared-boutique",
   "metadata": {},
   "outputs": [],
   "source": [
    "#new customer\n",
    "newCustomer = pd.DataFrame([{'Age': 40, 'Experience': 10, 'Income': 84, 'Family': 2, 'CCAvg': 2, 'Mortgage': 0,\n",
    "                             'Securities_Account': 0, 'CD_Account': 0, 'Online': 1, 'CreditCard': 1, 'Education_1': 0, \n",
    "                             'Education_2': 1, 'Education_3': 0}],\n",
    "                            columns=['Age', 'Experience', 'Income', 'Family', 'CCAvg', 'Mortgage', 'Securities_Account',\n",
    "                                   'CD_Account', 'Online', 'CreditCard', 'Education_1', 'Education_2', 'Education_3'])"
   ]
  },
  {
   "cell_type": "code",
   "execution_count": 96,
   "id": "toxic-independence",
   "metadata": {},
   "outputs": [],
   "source": [
    "#changing the data type of education to categorical\n",
    "cols = ['Education']\n",
    "df[cols] = df[cols].astype('category')"
   ]
  },
  {
   "cell_type": "code",
   "execution_count": 97,
   "id": "minor-canvas",
   "metadata": {},
   "outputs": [
    {
     "name": "stdout",
     "output_type": "stream",
     "text": [
      "ID                       int64\n",
      "Age                      int64\n",
      "Experience               int64\n",
      "Income                   int64\n",
      "ZIP Code                 int64\n",
      "Family                   int64\n",
      "CCAvg                  float64\n",
      "Education             category\n",
      "Mortgage                 int64\n",
      "Personal Loan            int64\n",
      "Securities Account       int64\n",
      "CD Account               int64\n",
      "Online                   int64\n",
      "CreditCard               int64\n",
      "dtype: object\n"
     ]
    }
   ],
   "source": [
    "print(df.dtypes)"
   ]
  },
  {
   "cell_type": "code",
   "execution_count": 98,
   "id": "informed-graham",
   "metadata": {},
   "outputs": [],
   "source": [
    "#correcting dataset and getting dummies\n",
    "df = pd.get_dummies(df, prefix_sep='_', drop_first=False)\n",
    "df.columns = [c.replace(' ', '_').replace('=', '_') for c in df.columns]"
   ]
  },
  {
   "cell_type": "code",
   "execution_count": 99,
   "id": "straight-picnic",
   "metadata": {},
   "outputs": [
    {
     "data": {
      "text/html": [
       "<div>\n",
       "<style scoped>\n",
       "    .dataframe tbody tr th:only-of-type {\n",
       "        vertical-align: middle;\n",
       "    }\n",
       "\n",
       "    .dataframe tbody tr th {\n",
       "        vertical-align: top;\n",
       "    }\n",
       "\n",
       "    .dataframe thead th {\n",
       "        text-align: right;\n",
       "    }\n",
       "</style>\n",
       "<table border=\"1\" class=\"dataframe\">\n",
       "  <thead>\n",
       "    <tr style=\"text-align: right;\">\n",
       "      <th></th>\n",
       "      <th>ID</th>\n",
       "      <th>Age</th>\n",
       "      <th>Experience</th>\n",
       "      <th>Income</th>\n",
       "      <th>ZIP_Code</th>\n",
       "      <th>Family</th>\n",
       "      <th>CCAvg</th>\n",
       "      <th>Mortgage</th>\n",
       "      <th>Personal_Loan</th>\n",
       "      <th>Securities_Account</th>\n",
       "      <th>CD_Account</th>\n",
       "      <th>Online</th>\n",
       "      <th>CreditCard</th>\n",
       "      <th>Education_1</th>\n",
       "      <th>Education_2</th>\n",
       "      <th>Education_3</th>\n",
       "    </tr>\n",
       "  </thead>\n",
       "  <tbody>\n",
       "    <tr>\n",
       "      <th>0</th>\n",
       "      <td>1</td>\n",
       "      <td>25</td>\n",
       "      <td>1</td>\n",
       "      <td>49</td>\n",
       "      <td>91107</td>\n",
       "      <td>4</td>\n",
       "      <td>1.6</td>\n",
       "      <td>0</td>\n",
       "      <td>0</td>\n",
       "      <td>1</td>\n",
       "      <td>0</td>\n",
       "      <td>0</td>\n",
       "      <td>0</td>\n",
       "      <td>1</td>\n",
       "      <td>0</td>\n",
       "      <td>0</td>\n",
       "    </tr>\n",
       "    <tr>\n",
       "      <th>1</th>\n",
       "      <td>2</td>\n",
       "      <td>45</td>\n",
       "      <td>19</td>\n",
       "      <td>34</td>\n",
       "      <td>90089</td>\n",
       "      <td>3</td>\n",
       "      <td>1.5</td>\n",
       "      <td>0</td>\n",
       "      <td>0</td>\n",
       "      <td>1</td>\n",
       "      <td>0</td>\n",
       "      <td>0</td>\n",
       "      <td>0</td>\n",
       "      <td>1</td>\n",
       "      <td>0</td>\n",
       "      <td>0</td>\n",
       "    </tr>\n",
       "    <tr>\n",
       "      <th>2</th>\n",
       "      <td>3</td>\n",
       "      <td>39</td>\n",
       "      <td>15</td>\n",
       "      <td>11</td>\n",
       "      <td>94720</td>\n",
       "      <td>1</td>\n",
       "      <td>1.0</td>\n",
       "      <td>0</td>\n",
       "      <td>0</td>\n",
       "      <td>0</td>\n",
       "      <td>0</td>\n",
       "      <td>0</td>\n",
       "      <td>0</td>\n",
       "      <td>1</td>\n",
       "      <td>0</td>\n",
       "      <td>0</td>\n",
       "    </tr>\n",
       "    <tr>\n",
       "      <th>3</th>\n",
       "      <td>4</td>\n",
       "      <td>35</td>\n",
       "      <td>9</td>\n",
       "      <td>100</td>\n",
       "      <td>94112</td>\n",
       "      <td>1</td>\n",
       "      <td>2.7</td>\n",
       "      <td>0</td>\n",
       "      <td>0</td>\n",
       "      <td>0</td>\n",
       "      <td>0</td>\n",
       "      <td>0</td>\n",
       "      <td>0</td>\n",
       "      <td>0</td>\n",
       "      <td>1</td>\n",
       "      <td>0</td>\n",
       "    </tr>\n",
       "    <tr>\n",
       "      <th>4</th>\n",
       "      <td>5</td>\n",
       "      <td>35</td>\n",
       "      <td>8</td>\n",
       "      <td>45</td>\n",
       "      <td>91330</td>\n",
       "      <td>4</td>\n",
       "      <td>1.0</td>\n",
       "      <td>0</td>\n",
       "      <td>0</td>\n",
       "      <td>0</td>\n",
       "      <td>0</td>\n",
       "      <td>0</td>\n",
       "      <td>1</td>\n",
       "      <td>0</td>\n",
       "      <td>1</td>\n",
       "      <td>0</td>\n",
       "    </tr>\n",
       "  </tbody>\n",
       "</table>\n",
       "</div>"
      ],
      "text/plain": [
       "   ID  Age  Experience  Income  ZIP_Code  Family  CCAvg  Mortgage  \\\n",
       "0   1   25           1      49     91107       4    1.6         0   \n",
       "1   2   45          19      34     90089       3    1.5         0   \n",
       "2   3   39          15      11     94720       1    1.0         0   \n",
       "3   4   35           9     100     94112       1    2.7         0   \n",
       "4   5   35           8      45     91330       4    1.0         0   \n",
       "\n",
       "   Personal_Loan  Securities_Account  CD_Account  Online  CreditCard  \\\n",
       "0              0                   1           0       0           0   \n",
       "1              0                   1           0       0           0   \n",
       "2              0                   0           0       0           0   \n",
       "3              0                   0           0       0           0   \n",
       "4              0                   0           0       0           1   \n",
       "\n",
       "   Education_1  Education_2  Education_3  \n",
       "0            1            0            0  \n",
       "1            1            0            0  \n",
       "2            1            0            0  \n",
       "3            0            1            0  \n",
       "4            0            1            0  "
      ]
     },
     "execution_count": 99,
     "metadata": {},
     "output_type": "execute_result"
    }
   ],
   "source": [
    "df.head()"
   ]
  },
  {
   "cell_type": "code",
   "execution_count": 100,
   "id": "distributed-meaning",
   "metadata": {},
   "outputs": [
    {
     "name": "stdout",
     "output_type": "stream",
     "text": [
      "Training set: (3000, 16) Validation set: (2000, 16)\n"
     ]
    }
   ],
   "source": [
    "#creating the partitions\n",
    "train_df, valid_df = train_test_split(df, test_size=0.4, random_state=1)\n",
    "print('Training set:', train_df.shape, 'Validation set:', valid_df.shape)"
   ]
  },
  {
   "cell_type": "code",
   "execution_count": 101,
   "id": "abandoned-hollow",
   "metadata": {},
   "outputs": [
    {
     "name": "stdout",
     "output_type": "stream",
     "text": [
      "       zAge  zExperience   zIncome   zFamily    zCCAvg  zMortgage  \\\n",
      "0 -0.486446    -0.901063  0.220892 -0.352127  0.035689  -0.559242   \n",
      "\n",
      "   zSecurities_Account  zCD_Account  zOnline  zCreditCard  zEducation_1  \\\n",
      "0            -0.337025    -0.252646  0.83419      1.53728     -0.838795   \n",
      "\n",
      "   zEducation_2  zEducation_3  \n",
      "0      1.591719     -0.660895  \n"
     ]
    }
   ],
   "source": [
    "#initializing the data set and transforming\n",
    "#utilized the method in the book instead of the hint method\n",
    "predictors = ['Age', 'Experience', 'Income', 'Family', 'CCAvg', 'Mortgage', 'Securities_Account', 'CD_Account', \n",
    "                     'Online', 'CreditCard', 'Education_1', 'Education_2', 'Education_3']\n",
    "outcome = ['Personal_Loan']\n",
    "scaler = preprocessing.StandardScaler()\n",
    "scaler.fit(train_df[['Age', 'Experience', 'Income', 'Family', 'CCAvg', 'Mortgage', 'Securities_Account', 'CD_Account', \n",
    "                     'Online', 'CreditCard', 'Education_1', 'Education_2', 'Education_3']])\n",
    "\n",
    "# Transform the full dataset\n",
    "bankNorm = pd.concat([pd.DataFrame(scaler.transform(df[['Age', 'Experience', 'Income', 'Family', 'CCAvg', 'Mortgage', 'Securities_Account', 'CD_Account', \n",
    "                     'Online', 'CreditCard', 'Education_1', 'Education_2', 'Education_3']]), \n",
    "                                    columns=['zAge', 'zExperience', 'zIncome', 'zFamily', 'zCCAvg', 'zMortgage', 'zSecurities_Account', 'zCD_Account', \n",
    "                     'zOnline', 'zCreditCard', 'zEducation_1', 'zEducation_2', 'zEducation_3']),\n",
    "                       df[['Personal_Loan']]], axis=1)\n",
    "trainNorm = bankNorm.iloc[train_df.index]\n",
    "validNorm = bankNorm.iloc[valid_df.index]\n",
    "newCustomerNorm = pd.DataFrame(scaler.transform(newCustomer), columns=['zAge', 'zExperience', 'zIncome', 'zFamily', 'zCCAvg', 'zMortgage', 'zSecurities_Account', 'zCD_Account', \n",
    "                     'zOnline', 'zCreditCard', 'zEducation_1', 'zEducation_2', 'zEducation_3'])\n",
    "print(newCustomerNorm)"
   ]
  },
  {
   "cell_type": "code",
   "execution_count": 102,
   "id": "played-disposal",
   "metadata": {},
   "outputs": [
    {
     "name": "stdout",
     "output_type": "stream",
     "text": [
      "          zAge  zExperience   zIncome   zFamily    zCCAvg  zMortgage  \\\n",
      "4407 -0.747929    -0.639658 -0.059674 -0.352127 -0.136574  -0.559242   \n",
      "\n",
      "      zSecurities_Account  zCD_Account  zOnline  zCreditCard  zEducation_1  \\\n",
      "4407            -0.337025    -0.252646  0.83419      1.53728     -0.838795   \n",
      "\n",
      "      zEducation_2  zEducation_3  Personal_Loan  \n",
      "4407      1.591719     -0.660895              0  \n"
     ]
    }
   ],
   "source": [
    "#running the knn for new customer\n",
    "knn = NearestNeighbors(n_neighbors=1)\n",
    "# https://scikit-learn.org/stable/modules/neighbors.html#neighbors\n",
    "knn.fit(trainNorm[['zAge', 'zExperience', 'zIncome', 'zFamily', 'zCCAvg', 'zMortgage', 'zSecurities_Account', 'zCD_Account', \n",
    "                     'zOnline', 'zCreditCard', 'zEducation_1', 'zEducation_2', 'zEducation_3']])\n",
    "distances, indices = knn.kneighbors(newCustomerNorm)\n",
    "# kneighbors([X, n_neighbors, return_distance]) Finds the K-neighbors of a point.\n",
    "# see https://scikit-learn.org/stable/modules/generated/sklearn.neighbors.KNeighborsClassifier.html\n",
    "print(trainNorm.iloc[indices[0], :])  # indices is a list of lists, we are only interested in the first element"
   ]
  },
  {
   "cell_type": "code",
   "execution_count": 103,
   "id": "significant-daisy",
   "metadata": {},
   "outputs": [
    {
     "name": "stdout",
     "output_type": "stream",
     "text": [
      "[0]\n",
      "Distances [[0.47859833]]\n",
      "Indices [[4034]]\n",
      "          zAge  zExperience   zIncome   zFamily    zCCAvg  zMortgage  \\\n",
      "4034 -0.922251    -0.813928  0.177728 -0.352127 -0.136574  -0.559242   \n",
      "\n",
      "      zSecurities_Account  zCD_Account  zOnline  zCreditCard  zEducation_1  \\\n",
      "4034            -0.337025    -0.252646  0.83419      1.53728     -0.838795   \n",
      "\n",
      "      zEducation_2  zEducation_3  Personal_Loan  \n",
      "4034      1.591719     -0.660895              0  \n"
     ]
    }
   ],
   "source": [
    "# Retrain with full dataset for 4 neighbors\n",
    "bank_X = bankNorm[['zAge', 'zExperience', 'zIncome', 'zFamily', 'zCCAvg', 'zMortgage', 'zSecurities_Account', 'zCD_Account', \n",
    "                     'zOnline', 'zCreditCard', 'zEducation_1', 'zEducation_2', 'zEducation_3']]\n",
    "bank_y = bankNorm['Personal_Loan']\n",
    "knn = KNeighborsClassifier(n_neighbors=1).fit(bank_X, bank_y)\n",
    "distances, indices = knn.kneighbors(newCustomerNorm)\n",
    "print(knn.predict(newCustomerNorm))\n",
    "print('Distances',distances)\n",
    "print('Indices', indices)\n",
    "print(bankNorm.iloc[indices[0], :])"
   ]
  },
  {
   "cell_type": "markdown",
   "id": "foreign-wrapping",
   "metadata": {},
   "source": [
    "This customer would be classified as a non-successful customer. This can be seen by looking at the 0 prediction from the K-NN."
   ]
  },
  {
   "cell_type": "markdown",
   "id": "still-chain",
   "metadata": {},
   "source": [
    "<h3> Question 7.b"
   ]
  },
  {
   "cell_type": "code",
   "execution_count": 104,
   "id": "considerable-canon",
   "metadata": {},
   "outputs": [
    {
     "name": "stdout",
     "output_type": "stream",
     "text": [
      "     k  accuracy\n",
      "0    1    0.9545\n",
      "1    2    0.9500\n",
      "2    3    0.9535\n",
      "3    4    0.9495\n",
      "4    5    0.9565\n",
      "5    6    0.9495\n",
      "6    7    0.9520\n",
      "7    8    0.9460\n",
      "8    9    0.9475\n",
      "9   10    0.9435\n",
      "10  11    0.9465\n",
      "11  12    0.9435\n",
      "12  13    0.9450\n",
      "13  14    0.9435\n"
     ]
    }
   ],
   "source": [
    "#predicting the best knn for this dataset\n",
    "train_X = trainNorm[['zAge', 'zExperience', 'zIncome', 'zFamily', 'zCCAvg', 'zMortgage', 'zSecurities_Account', 'zCD_Account', \n",
    "                     'zOnline', 'zCreditCard', 'zEducation_1', 'zEducation_2', 'zEducation_3']]\n",
    "train_y = trainNorm['Personal_Loan']\n",
    "valid_X = validNorm[['zAge', 'zExperience', 'zIncome', 'zFamily', 'zCCAvg', 'zMortgage', 'zSecurities_Account', 'zCD_Account', \n",
    "                     'zOnline', 'zCreditCard', 'zEducation_1', 'zEducation_2', 'zEducation_3']]\n",
    "valid_y = validNorm['Personal_Loan']\n",
    "\n",
    "# Train a classifier for different values of k\n",
    "results = []\n",
    "for k in range(1, 15):\n",
    "    knn = KNeighborsClassifier(n_neighbors=k).fit(train_X, train_y)\n",
    "    results.append({\n",
    "        'k': k,\n",
    "        'accuracy': accuracy_score(valid_y, knn.predict(valid_X))\n",
    "    })\n",
    "\n",
    "# Convert results to a pandas data frame\n",
    "results = pd.DataFrame(results)\n",
    "print(results)"
   ]
  },
  {
   "cell_type": "markdown",
   "id": "mounted-celebrity",
   "metadata": {},
   "source": [
    "The best K value that balances accuracy and over-fitting would be k = 5"
   ]
  },
  {
   "cell_type": "markdown",
   "id": "dramatic-spokesman",
   "metadata": {},
   "source": [
    "<h3> Question 7.c"
   ]
  },
  {
   "cell_type": "code",
   "execution_count": 105,
   "id": "fifteen-magnitude",
   "metadata": {},
   "outputs": [
    {
     "name": "stdout",
     "output_type": "stream",
     "text": [
      "[0]\n"
     ]
    }
   ],
   "source": [
    "knn = KNeighborsClassifier(n_neighbors=5).fit(train_X, train_y)\n",
    "print(knn.predict(newCustomerNorm))\n",
    "knnPredict = knn.predict(valid_X)"
   ]
  },
  {
   "cell_type": "code",
   "execution_count": 106,
   "id": "exempt-mainstream",
   "metadata": {},
   "outputs": [
    {
     "data": {
      "text/plain": [
       "array([[1803,    4],\n",
       "       [  83,  110]], dtype=int64)"
      ]
     },
     "execution_count": 106,
     "metadata": {},
     "output_type": "execute_result"
    }
   ],
   "source": [
    "knnPredict = knn.predict(valid_X)\n",
    "confusion_matrix(valid_y, knnPredict)"
   ]
  },
  {
   "cell_type": "markdown",
   "id": "biological-astronomy",
   "metadata": {},
   "source": [
    "<h3> Question 7.d"
   ]
  },
  {
   "cell_type": "markdown",
   "id": "included-smoke",
   "metadata": {},
   "source": [
    "I kind of already did this above but I will redo it here for easier grading."
   ]
  },
  {
   "cell_type": "code",
   "execution_count": 107,
   "id": "distributed-walker",
   "metadata": {},
   "outputs": [
    {
     "data": {
      "text/plain": [
       "array([[1., 0.]])"
      ]
     },
     "execution_count": 107,
     "metadata": {},
     "output_type": "execute_result"
    }
   ],
   "source": [
    "knn.predict_proba(newCustomerNorm)"
   ]
  },
  {
   "cell_type": "markdown",
   "id": "suspected-affiliate",
   "metadata": {},
   "source": [
    "This displays a 0 in predicted probability"
   ]
  },
  {
   "cell_type": "markdown",
   "id": "judicial-contribution",
   "metadata": {},
   "source": [
    "<h3> Question 7.e"
   ]
  },
  {
   "cell_type": "code",
   "execution_count": 108,
   "id": "adapted-demographic",
   "metadata": {},
   "outputs": [
    {
     "name": "stdout",
     "output_type": "stream",
     "text": [
      "Training set: (2500, 16) Validation set: (1500, 16) Test: (1000, 16)\n"
     ]
    }
   ],
   "source": [
    "#creating the partitions\n",
    "train_df, remaining_df = train_test_split(df, test_size=0.5, random_state=1)\n",
    "valid_df, test_df = train_test_split(remaining_df, test_size=0.4, random_state=1)\n",
    "print('Training set:', train_df.shape, 'Validation set:', valid_df.shape, 'Test:', test_df.shape)"
   ]
  },
  {
   "cell_type": "code",
   "execution_count": 109,
   "id": "present-armenia",
   "metadata": {},
   "outputs": [
    {
     "name": "stdout",
     "output_type": "stream",
     "text": [
      "          Age  Experience    Income    Family     CCAvg  Mortgage  \\\n",
      "0   -1.192185   -1.084066 -0.895312 -0.346955 -0.536477  0.466837   \n",
      "1    1.513597    1.535886 -1.110618  0.522170 -1.053308  0.337320   \n",
      "2   -1.017619   -0.909403 -0.701536 -1.216080 -0.346973 -0.559331   \n",
      "3    0.117064    0.138578 -0.184801 -1.216080  0.267482 -0.559331   \n",
      "4   -1.454035   -1.433393  1.300810 -0.346955  0.784312  1.473079   \n",
      "..        ...         ...       ...       ...       ...       ...   \n",
      "995 -1.104902   -1.171398  0.568770 -1.216080  0.439759  0.695981   \n",
      "996 -0.581202   -0.647408  0.159688 -0.346955  0.497184 -0.559331   \n",
      "997 -0.406635   -0.385412 -1.196740 -1.216080 -0.766180 -0.559331   \n",
      "998 -0.319352   -0.298081 -0.313985  1.391296 -0.881031 -0.559331   \n",
      "999 -0.668485   -0.734739 -0.744597 -0.346955 -0.938457  1.174195   \n",
      "\n",
      "     Securities_Account  CD_Account    Online  CreditCard  Education_1  \\\n",
      "0             -0.352279    3.837091  0.833616    1.540720    -0.844691   \n",
      "1             -0.352279   -0.260614  0.833616   -0.649047    -0.844691   \n",
      "2             -0.352279   -0.260614 -1.199593    1.540720     1.183865   \n",
      "3             -0.352279   -0.260614  0.833616   -0.649047     1.183865   \n",
      "4             -0.352279   -0.260614 -1.199593   -0.649047     1.183865   \n",
      "..                  ...         ...       ...         ...          ...   \n",
      "995           -0.352279   -0.260614  0.833616   -0.649047    -0.844691   \n",
      "996           -0.352279   -0.260614  0.833616   -0.649047     1.183865   \n",
      "997           -0.352279   -0.260614 -1.199593    1.540720    -0.844691   \n",
      "998           -0.352279   -0.260614  0.833616   -0.649047     1.183865   \n",
      "999           -0.352279   -0.260614  0.833616   -0.649047     1.183865   \n",
      "\n",
      "     Education_2  Education_3  \n",
      "0       1.608353    -0.662144  \n",
      "1      -0.621754     1.510245  \n",
      "2      -0.621754    -0.662144  \n",
      "3      -0.621754    -0.662144  \n",
      "4      -0.621754    -0.662144  \n",
      "..           ...          ...  \n",
      "995     1.608353    -0.662144  \n",
      "996    -0.621754    -0.662144  \n",
      "997    -0.621754     1.510245  \n",
      "998    -0.621754    -0.662144  \n",
      "999    -0.621754    -0.662144  \n",
      "\n",
      "[1000 rows x 13 columns]\n"
     ]
    }
   ],
   "source": [
    "#initializing dataset and transforming\n",
    "#trying the method given in the question hints\n",
    "predictors = ['Age', 'Experience', 'Income', 'Family', 'CCAvg', 'Mortgage', 'Securities_Account', 'CD_Account', \n",
    "                     'Online', 'CreditCard', 'Education_1', 'Education_2', 'Education_3']\n",
    "outcome = ['Personal_Loan']\n",
    "scaler = preprocessing.StandardScaler()\n",
    "scaler.fit(train_df[predictors])\n",
    "\n",
    "#Transform training and new customer\n",
    "train_X = scaler.transform(train_df[predictors])\n",
    "train_y = train_df[outcome]\n",
    "valid_X = scaler.transform(valid_df[predictors])\n",
    "valid_y = valid_df[outcome]\n",
    "test_X = scaler.transform(test_df[predictors])\n",
    "test_y = test_df[outcome]\n",
    "test_X = pd.DataFrame(test_X, columns = ['Age', 'Experience', 'Income', 'Family', 'CCAvg', 'Mortgage', 'Securities_Account', 'CD_Account', \n",
    "                     'Online', 'CreditCard', 'Education_1', 'Education_2', 'Education_3'])\n",
    "test_y = pd.DataFrame(test_y, columns = ['Personal_Loan'])\n",
    "print(test_X)"
   ]
  },
  {
   "cell_type": "code",
   "execution_count": 112,
   "id": "weird-american",
   "metadata": {},
   "outputs": [
    {
     "name": "stderr",
     "output_type": "stream",
     "text": [
      "<ipython-input-112-bf8055aa1239>:4: DataConversionWarning: A column-vector y was passed when a 1d array was expected. Please change the shape of y to (n_samples, ), for example using ravel().\n",
      "  knn = KNeighborsClassifier(n_neighbors=k).fit(train_X, train_y)\n",
      "<ipython-input-112-bf8055aa1239>:4: DataConversionWarning: A column-vector y was passed when a 1d array was expected. Please change the shape of y to (n_samples, ), for example using ravel().\n",
      "  knn = KNeighborsClassifier(n_neighbors=k).fit(train_X, train_y)\n",
      "<ipython-input-112-bf8055aa1239>:4: DataConversionWarning: A column-vector y was passed when a 1d array was expected. Please change the shape of y to (n_samples, ), for example using ravel().\n",
      "  knn = KNeighborsClassifier(n_neighbors=k).fit(train_X, train_y)\n",
      "<ipython-input-112-bf8055aa1239>:4: DataConversionWarning: A column-vector y was passed when a 1d array was expected. Please change the shape of y to (n_samples, ), for example using ravel().\n",
      "  knn = KNeighborsClassifier(n_neighbors=k).fit(train_X, train_y)\n",
      "<ipython-input-112-bf8055aa1239>:4: DataConversionWarning: A column-vector y was passed when a 1d array was expected. Please change the shape of y to (n_samples, ), for example using ravel().\n",
      "  knn = KNeighborsClassifier(n_neighbors=k).fit(train_X, train_y)\n",
      "<ipython-input-112-bf8055aa1239>:4: DataConversionWarning: A column-vector y was passed when a 1d array was expected. Please change the shape of y to (n_samples, ), for example using ravel().\n",
      "  knn = KNeighborsClassifier(n_neighbors=k).fit(train_X, train_y)\n",
      "<ipython-input-112-bf8055aa1239>:4: DataConversionWarning: A column-vector y was passed when a 1d array was expected. Please change the shape of y to (n_samples, ), for example using ravel().\n",
      "  knn = KNeighborsClassifier(n_neighbors=k).fit(train_X, train_y)\n",
      "<ipython-input-112-bf8055aa1239>:4: DataConversionWarning: A column-vector y was passed when a 1d array was expected. Please change the shape of y to (n_samples, ), for example using ravel().\n",
      "  knn = KNeighborsClassifier(n_neighbors=k).fit(train_X, train_y)\n",
      "<ipython-input-112-bf8055aa1239>:4: DataConversionWarning: A column-vector y was passed when a 1d array was expected. Please change the shape of y to (n_samples, ), for example using ravel().\n",
      "  knn = KNeighborsClassifier(n_neighbors=k).fit(train_X, train_y)\n",
      "<ipython-input-112-bf8055aa1239>:4: DataConversionWarning: A column-vector y was passed when a 1d array was expected. Please change the shape of y to (n_samples, ), for example using ravel().\n",
      "  knn = KNeighborsClassifier(n_neighbors=k).fit(train_X, train_y)\n",
      "<ipython-input-112-bf8055aa1239>:4: DataConversionWarning: A column-vector y was passed when a 1d array was expected. Please change the shape of y to (n_samples, ), for example using ravel().\n",
      "  knn = KNeighborsClassifier(n_neighbors=k).fit(train_X, train_y)\n",
      "<ipython-input-112-bf8055aa1239>:4: DataConversionWarning: A column-vector y was passed when a 1d array was expected. Please change the shape of y to (n_samples, ), for example using ravel().\n",
      "  knn = KNeighborsClassifier(n_neighbors=k).fit(train_X, train_y)\n",
      "<ipython-input-112-bf8055aa1239>:4: DataConversionWarning: A column-vector y was passed when a 1d array was expected. Please change the shape of y to (n_samples, ), for example using ravel().\n",
      "  knn = KNeighborsClassifier(n_neighbors=k).fit(train_X, train_y)\n"
     ]
    },
    {
     "name": "stdout",
     "output_type": "stream",
     "text": [
      "     k  accuracy\n",
      "0    1  0.955333\n",
      "1    2  0.951333\n",
      "2    3  0.954667\n",
      "3    4  0.948000\n",
      "4    5  0.953333\n",
      "5    6  0.942667\n",
      "6    7  0.947333\n",
      "7    8  0.943333\n",
      "8    9  0.944000\n",
      "9   10  0.938667\n",
      "10  11  0.940667\n",
      "11  12  0.940000\n",
      "12  13  0.942000\n",
      "13  14  0.938000\n"
     ]
    },
    {
     "name": "stderr",
     "output_type": "stream",
     "text": [
      "<ipython-input-112-bf8055aa1239>:4: DataConversionWarning: A column-vector y was passed when a 1d array was expected. Please change the shape of y to (n_samples, ), for example using ravel().\n",
      "  knn = KNeighborsClassifier(n_neighbors=k).fit(train_X, train_y)\n"
     ]
    }
   ],
   "source": [
    "#finding results for best k\n",
    "results = []\n",
    "for k in range(1, 15):\n",
    "    knn = KNeighborsClassifier(n_neighbors=k).fit(train_X, train_y)\n",
    "    results.append({\n",
    "        'k': k,\n",
    "        'accuracy': accuracy_score(valid_y, knn.predict(valid_X))\n",
    "    })\n",
    "\n",
    "# Convert results to a pandas data frame\n",
    "results = pd.DataFrame(results)\n",
    "print(results)"
   ]
  },
  {
   "cell_type": "code",
   "execution_count": 114,
   "id": "understood-principle",
   "metadata": {},
   "outputs": [
    {
     "name": "stderr",
     "output_type": "stream",
     "text": [
      "<ipython-input-114-2c6544a9c9e0>:2: DataConversionWarning: A column-vector y was passed when a 1d array was expected. Please change the shape of y to (n_samples, ), for example using ravel().\n",
      "  knn.fit(train_X, train_y)\n"
     ]
    },
    {
     "data": {
      "text/plain": [
       "KNeighborsClassifier(n_neighbors=1)"
      ]
     },
     "execution_count": 114,
     "metadata": {},
     "output_type": "execute_result"
    }
   ],
   "source": [
    "knn=KNeighborsClassifier(n_neighbors=1)\n",
    "knn.fit(train_X, train_y)"
   ]
  },
  {
   "cell_type": "code",
   "execution_count": 122,
   "id": "experimental-diploma",
   "metadata": {},
   "outputs": [
    {
     "name": "stdout",
     "output_type": "stream",
     "text": [
      "[[2259    0]\n",
      " [   0  241]]\n",
      "1.0\n",
      "[[1333   16]\n",
      " [  51  100]]\n",
      "0.9553333333333334\n",
      "[[897  15]\n",
      " [ 28  60]]\n",
      "0.957\n"
     ]
    }
   ],
   "source": [
    "knnPredTrain = knn.predict(train_X)\n",
    "print(confusion_matrix(train_y, knnPredTrain))\n",
    "print(accuracy_score(train_y, knnPredTrain))\n",
    "knnPredValid = knn.predict(valid_X)\n",
    "print(confusion_matrix(valid_y, knnPredValid))\n",
    "print(accuracy_score(valid_y, knnPredValid))\n",
    "knnPredTest = knn.predict(test_X)\n",
    "print(confusion_matrix(test_y, knnPredTest))\n",
    "print(accuracy_score(test_y, knnPredTest))"
   ]
  },
  {
   "cell_type": "markdown",
   "id": "widespread-fireplace",
   "metadata": {},
   "source": [
    "In this dataset we can see that the error rate decreases when it goes from the training to the validation set but it then increases again when it goes to the test set. This could be because of over-fitting but im not completely sure. "
   ]
  },
  {
   "cell_type": "code",
   "execution_count": null,
   "id": "overall-criticism",
   "metadata": {},
   "outputs": [],
   "source": []
  }
 ],
 "metadata": {
  "kernelspec": {
   "display_name": "Python 3",
   "language": "python",
   "name": "python3"
  },
  "language_info": {
   "codemirror_mode": {
    "name": "ipython",
    "version": 3
   },
   "file_extension": ".py",
   "mimetype": "text/x-python",
   "name": "python",
   "nbconvert_exporter": "python",
   "pygments_lexer": "ipython3",
   "version": "3.8.5"
  }
 },
 "nbformat": 4,
 "nbformat_minor": 5
}
