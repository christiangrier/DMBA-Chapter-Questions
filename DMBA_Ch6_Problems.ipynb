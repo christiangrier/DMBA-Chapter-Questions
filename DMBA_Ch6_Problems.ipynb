{
 "cells": [
  {
   "cell_type": "markdown",
   "id": "finnish-supplement",
   "metadata": {},
   "source": [
    "<h2> Name: Christian Grier"
   ]
  },
  {
   "cell_type": "code",
   "execution_count": 90,
   "id": "received-addition",
   "metadata": {},
   "outputs": [],
   "source": [
    "%matplotlib inline\n",
    "from pathlib import Path\n",
    "\n",
    "import numpy as np\n",
    "import pandas as pd\n",
    "import seaborn as sns\n",
    "from sklearn.model_selection import train_test_split\n",
    "from sklearn.linear_model import LinearRegression, Lasso, Ridge, LassoCV, BayesianRidge\n",
    "import statsmodels.formula.api as sm\n",
    "import matplotlib.pylab as plt\n",
    "\n",
    "from dmba import regressionSummary, exhaustive_search\n",
    "from dmba import backward_elimination, forward_selection, stepwise_selection\n",
    "from dmba import adjusted_r2_score, AIC_score, BIC_score"
   ]
  },
  {
   "cell_type": "code",
   "execution_count": 91,
   "id": "included-locking",
   "metadata": {},
   "outputs": [],
   "source": [
    "DATA = Path(\"C:/Users/chris/Documents/DS 110-DM/data\")"
   ]
  },
  {
   "cell_type": "code",
   "execution_count": 92,
   "id": "married-supervisor",
   "metadata": {},
   "outputs": [
    {
     "name": "stdout",
     "output_type": "stream",
     "text": [
      "sequence_number         int64\n",
      "US                      int64\n",
      "source_a                int64\n",
      "source_c                int64\n",
      "source_b                int64\n",
      "source_d                int64\n",
      "source_e                int64\n",
      "source_m                int64\n",
      "source_o                int64\n",
      "source_h                int64\n",
      "source_r                int64\n",
      "source_s                int64\n",
      "source_t                int64\n",
      "source_u                int64\n",
      "source_p                int64\n",
      "source_x                int64\n",
      "source_w                int64\n",
      "Freq                    int64\n",
      "last_update_days_ago    int64\n",
      "1st_update_days_ago     int64\n",
      "Web order               int64\n",
      "Gender=male             int64\n",
      "Address_is_res          int64\n",
      "Purchase                int64\n",
      "Spending                int64\n",
      "dtype: object\n"
     ]
    }
   ],
   "source": [
    "df = pd.read_csv('Tayko.csv')\n",
    "print(df.dtypes)"
   ]
  },
  {
   "cell_type": "markdown",
   "id": "massive-wyoming",
   "metadata": {},
   "source": [
    "<h3> Question 2.a"
   ]
  },
  {
   "cell_type": "code",
   "execution_count": 93,
   "id": "downtown-swing",
   "metadata": {},
   "outputs": [
    {
     "data": {
      "text/html": [
       "<div>\n",
       "<style scoped>\n",
       "    .dataframe tbody tr th:only-of-type {\n",
       "        vertical-align: middle;\n",
       "    }\n",
       "\n",
       "    .dataframe tbody tr th {\n",
       "        vertical-align: top;\n",
       "    }\n",
       "\n",
       "    .dataframe thead tr th {\n",
       "        text-align: left;\n",
       "    }\n",
       "\n",
       "    .dataframe thead tr:last-of-type th {\n",
       "        text-align: right;\n",
       "    }\n",
       "</style>\n",
       "<table border=\"1\" class=\"dataframe\">\n",
       "  <thead>\n",
       "    <tr>\n",
       "      <th></th>\n",
       "      <th>mean</th>\n",
       "      <th>std</th>\n",
       "    </tr>\n",
       "    <tr>\n",
       "      <th></th>\n",
       "      <th>Spending</th>\n",
       "      <th>Spending</th>\n",
       "    </tr>\n",
       "    <tr>\n",
       "      <th>Gender=male</th>\n",
       "      <th></th>\n",
       "      <th></th>\n",
       "    </tr>\n",
       "  </thead>\n",
       "  <tbody>\n",
       "    <tr>\n",
       "      <th>0</th>\n",
       "      <td>107.339642</td>\n",
       "      <td>190.83233</td>\n",
       "    </tr>\n",
       "    <tr>\n",
       "      <th>1</th>\n",
       "      <td>98.350810</td>\n",
       "      <td>183.02006</td>\n",
       "    </tr>\n",
       "  </tbody>\n",
       "</table>\n",
       "</div>"
      ],
      "text/plain": [
       "                   mean        std\n",
       "               Spending   Spending\n",
       "Gender=male                       \n",
       "0            107.339642  190.83233\n",
       "1             98.350810  183.02006"
      ]
     },
     "execution_count": 93,
     "metadata": {},
     "output_type": "execute_result"
    }
   ],
   "source": [
    "pd.pivot_table(df, index= 'Gender=male', values= \"Spending\", aggfunc= [np.mean, np.std])"
   ]
  },
  {
   "cell_type": "code",
   "execution_count": 94,
   "id": "falling-breed",
   "metadata": {},
   "outputs": [
    {
     "data": {
      "text/html": [
       "<div>\n",
       "<style scoped>\n",
       "    .dataframe tbody tr th:only-of-type {\n",
       "        vertical-align: middle;\n",
       "    }\n",
       "\n",
       "    .dataframe tbody tr th {\n",
       "        vertical-align: top;\n",
       "    }\n",
       "\n",
       "    .dataframe thead tr th {\n",
       "        text-align: left;\n",
       "    }\n",
       "\n",
       "    .dataframe thead tr:last-of-type th {\n",
       "        text-align: right;\n",
       "    }\n",
       "</style>\n",
       "<table border=\"1\" class=\"dataframe\">\n",
       "  <thead>\n",
       "    <tr>\n",
       "      <th></th>\n",
       "      <th>mean</th>\n",
       "      <th>std</th>\n",
       "    </tr>\n",
       "    <tr>\n",
       "      <th></th>\n",
       "      <th>Spending</th>\n",
       "      <th>Spending</th>\n",
       "    </tr>\n",
       "    <tr>\n",
       "      <th>Web order</th>\n",
       "      <th></th>\n",
       "      <th></th>\n",
       "    </tr>\n",
       "  </thead>\n",
       "  <tbody>\n",
       "    <tr>\n",
       "      <th>0</th>\n",
       "      <td>82.902439</td>\n",
       "      <td>173.417088</td>\n",
       "    </tr>\n",
       "    <tr>\n",
       "      <th>1</th>\n",
       "      <td>129.199531</td>\n",
       "      <td>200.463840</td>\n",
       "    </tr>\n",
       "  </tbody>\n",
       "</table>\n",
       "</div>"
      ],
      "text/plain": [
       "                 mean         std\n",
       "             Spending    Spending\n",
       "Web order                        \n",
       "0           82.902439  173.417088\n",
       "1          129.199531  200.463840"
      ]
     },
     "execution_count": 94,
     "metadata": {},
     "output_type": "execute_result"
    }
   ],
   "source": [
    "pd.pivot_table(df, index= 'Web order', values= \"Spending\", aggfunc= [np.mean, np.std])"
   ]
  },
  {
   "cell_type": "code",
   "execution_count": 95,
   "id": "reasonable-respondent",
   "metadata": {},
   "outputs": [
    {
     "data": {
      "text/html": [
       "<div>\n",
       "<style scoped>\n",
       "    .dataframe tbody tr th:only-of-type {\n",
       "        vertical-align: middle;\n",
       "    }\n",
       "\n",
       "    .dataframe tbody tr th {\n",
       "        vertical-align: top;\n",
       "    }\n",
       "\n",
       "    .dataframe thead tr th {\n",
       "        text-align: left;\n",
       "    }\n",
       "\n",
       "    .dataframe thead tr:last-of-type th {\n",
       "        text-align: right;\n",
       "    }\n",
       "</style>\n",
       "<table border=\"1\" class=\"dataframe\">\n",
       "  <thead>\n",
       "    <tr>\n",
       "      <th></th>\n",
       "      <th>mean</th>\n",
       "      <th>std</th>\n",
       "    </tr>\n",
       "    <tr>\n",
       "      <th></th>\n",
       "      <th>Spending</th>\n",
       "      <th>Spending</th>\n",
       "    </tr>\n",
       "    <tr>\n",
       "      <th>Address_is_res</th>\n",
       "      <th></th>\n",
       "      <th></th>\n",
       "    </tr>\n",
       "  </thead>\n",
       "  <tbody>\n",
       "    <tr>\n",
       "      <th>0</th>\n",
       "      <td>105.306162</td>\n",
       "      <td>199.521159</td>\n",
       "    </tr>\n",
       "    <tr>\n",
       "      <th>1</th>\n",
       "      <td>93.174208</td>\n",
       "      <td>132.204281</td>\n",
       "    </tr>\n",
       "  </tbody>\n",
       "</table>\n",
       "</div>"
      ],
      "text/plain": [
       "                      mean         std\n",
       "                  Spending    Spending\n",
       "Address_is_res                        \n",
       "0               105.306162  199.521159\n",
       "1                93.174208  132.204281"
      ]
     },
     "execution_count": 95,
     "metadata": {},
     "output_type": "execute_result"
    }
   ],
   "source": [
    "pd.pivot_table(df, index= 'Address_is_res', values= \"Spending\", aggfunc= [np.mean, np.std])"
   ]
  },
  {
   "cell_type": "code",
   "execution_count": 96,
   "id": "enormous-pregnancy",
   "metadata": {},
   "outputs": [
    {
     "data": {
      "text/html": [
       "<div>\n",
       "<style scoped>\n",
       "    .dataframe tbody tr th:only-of-type {\n",
       "        vertical-align: middle;\n",
       "    }\n",
       "\n",
       "    .dataframe tbody tr th {\n",
       "        vertical-align: top;\n",
       "    }\n",
       "\n",
       "    .dataframe thead tr th {\n",
       "        text-align: left;\n",
       "    }\n",
       "\n",
       "    .dataframe thead tr:last-of-type th {\n",
       "        text-align: right;\n",
       "    }\n",
       "</style>\n",
       "<table border=\"1\" class=\"dataframe\">\n",
       "  <thead>\n",
       "    <tr>\n",
       "      <th></th>\n",
       "      <th>mean</th>\n",
       "      <th>std</th>\n",
       "    </tr>\n",
       "    <tr>\n",
       "      <th></th>\n",
       "      <th>Spending</th>\n",
       "      <th>Spending</th>\n",
       "    </tr>\n",
       "    <tr>\n",
       "      <th>US</th>\n",
       "      <th></th>\n",
       "      <th></th>\n",
       "    </tr>\n",
       "  </thead>\n",
       "  <tbody>\n",
       "    <tr>\n",
       "      <th>0</th>\n",
       "      <td>101.216524</td>\n",
       "      <td>174.844401</td>\n",
       "    </tr>\n",
       "    <tr>\n",
       "      <th>1</th>\n",
       "      <td>102.924803</td>\n",
       "      <td>189.275664</td>\n",
       "    </tr>\n",
       "  </tbody>\n",
       "</table>\n",
       "</div>"
      ],
      "text/plain": [
       "          mean         std\n",
       "      Spending    Spending\n",
       "US                        \n",
       "0   101.216524  174.844401\n",
       "1   102.924803  189.275664"
      ]
     },
     "execution_count": 96,
     "metadata": {},
     "output_type": "execute_result"
    }
   ],
   "source": [
    "pd.pivot_table(df, index= 'US', values= \"Spending\", aggfunc= [np.mean, np.std])"
   ]
  },
  {
   "cell_type": "markdown",
   "id": "fantastic-relevance",
   "metadata": {},
   "source": [
    "<h3> Question 2.b"
   ]
  },
  {
   "cell_type": "code",
   "execution_count": 97,
   "id": "academic-cowboy",
   "metadata": {},
   "outputs": [
    {
     "data": {
      "text/plain": [
       "[Text(0.5, 0, 'Spending'), Text(0, 0.5, 'Freq')]"
      ]
     },
     "execution_count": 97,
     "metadata": {},
     "output_type": "execute_result"
    },
    {
     "data": {
      "image/png": "[encoded data removed]",
      "text/plain": [
       "<Figure size 432x288 with 1 Axes>"
      ]
     },
     "metadata": {
      "needs_background": "light"
     },
     "output_type": "display_data"
    }
   ],
   "source": [
    "sns.scatterplot(x='Spending', y='Freq' , data=df).set( xlabel = 'Spending', ylabel = 'Freq')"
   ]
  },
  {
   "cell_type": "code",
   "execution_count": 98,
   "id": "freelance-title",
   "metadata": {},
   "outputs": [
    {
     "data": {
      "text/plain": [
       "[Text(0.5, 0, 'Spending'), Text(0, 0.5, 'last update days ago')]"
      ]
     },
     "execution_count": 98,
     "metadata": {},
     "output_type": "execute_result"
    },
    {
     "data": {
      "image/png": "[encoded data removed]",
      "text/plain": [
       "<Figure size 432x288 with 1 Axes>"
      ]
     },
     "metadata": {
      "needs_background": "light"
     },
     "output_type": "display_data"
    }
   ],
   "source": [
    "sns.scatterplot(x='Spending', y='last_update_days_ago' , data=df).set( xlabel = 'Spending', ylabel = 'last update days ago')"
   ]
  },
  {
   "cell_type": "markdown",
   "id": "funny-orange",
   "metadata": {},
   "source": [
    "Based off of these two scatterplots we can see that there isnt a linear relationship between the two variables. Although they both reduce in occurance as spending increases, last_update_days_ago has more variance at its lower spending."
   ]
  },
  {
   "cell_type": "markdown",
   "id": "arctic-hawaiian",
   "metadata": {},
   "source": [
    "<h3> Question 2.c"
   ]
  },
  {
   "cell_type": "code",
   "execution_count": 99,
   "id": "sought-savage",
   "metadata": {},
   "outputs": [
    {
     "name": "stdout",
     "output_type": "stream",
     "text": [
      "                            OLS Regression Results                            \n",
      "==============================================================================\n",
      "Dep. Variable:               Spending   R-squared:                       0.525\n",
      "Model:                            OLS   Adj. R-squared:                  0.522\n",
      "Method:                 Least Squares   F-statistic:                     219.3\n",
      "Date:                Wed, 14 Apr 2021   Prob (F-statistic):          1.26e-188\n",
      "Time:                        18:56:22   Log-Likelihood:                -7506.3\n",
      "No. Observations:                1200   AIC:                         1.503e+04\n",
      "Df Residuals:                    1193   BIC:                         1.506e+04\n",
      "Df Model:                           6                                         \n",
      "Covariance Type:            nonrobust                                         \n",
      "========================================================================================\n",
      "                           coef    std err          t      P>|t|      [0.025      0.975]\n",
      "----------------------------------------------------------------------------------------\n",
      "Intercept               10.1763     13.543      0.751      0.453     -16.395      36.747\n",
      "US                      -4.6203      9.636     -0.479      0.632     -23.526      14.285\n",
      "Freq                    91.2744      2.809     32.490      0.000      85.763      96.786\n",
      "last_update_days_ago    -0.0104      0.003     -3.029      0.003      -0.017      -0.004\n",
      "Web_order               18.6287      7.526      2.475      0.013       3.863      33.394\n",
      "Gender_male             -9.1114      7.318     -1.245      0.213     -23.468       5.245\n",
      "Address_is_res         -75.8154      9.162     -8.275      0.000     -93.790     -57.841\n",
      "==============================================================================\n",
      "Omnibus:                      956.068   Durbin-Watson:                   1.989\n",
      "Prob(Omnibus):                  0.000   Jarque-Bera (JB):            32247.650\n",
      "Skew:                           3.402   Prob(JB):                         0.00\n",
      "Kurtosis:                      27.468   Cond. No.                     1.01e+04\n",
      "==============================================================================\n",
      "\n",
      "Notes:\n",
      "[1] Standard Errors assume that the covariance matrix of the errors is correctly specified.\n",
      "[2] The condition number is large, 1.01e+04. This might indicate that there are\n",
      "strong multicollinearity or other numerical problems.\n",
      "\n",
      "Regression statistics\n",
      "\n",
      "               Mean Error (ME) : 7.1933\n",
      "Root Mean Squared Error (RMSE) : 136.7397\n",
      "     Mean Absolute Error (MAE) : 83.6010\n"
     ]
    }
   ],
   "source": [
    "df.columns = [c.replace(' ', '_').replace('=', '_') for c in df.columns]\n",
    "#to view the statsmodel information \n",
    "predictors = ['Freq', 'last_update_days_ago', 'Web_order', 'Gender_male', 'Address_is_res', 'US']\n",
    "outcome = 'Spending'\n",
    "\n",
    "X = df[predictors]\n",
    "y = df[outcome]\n",
    "train_X, valid_X, train_y, valid_y = train_test_split(X, y, test_size=0.4, random_state=1)\n",
    "train_df = train_X.join(train_y)\n",
    "\n",
    "model=sm.ols(formula='Spending ~ US + Freq + last_update_days_ago + Web_order + Gender_male + Address_is_res', data=train_df).fit()\n",
    "print(model.summary())\n",
    "\n",
    "#so that I can view the regression summary of the validation set.\n",
    "tayko_lm = LinearRegression()\n",
    "tayko_lm.fit(train_X, train_y)\n",
    "tayko_lm_pred = tayko_lm.predict(valid_X)\n",
    "regressionSummary(valid_y, tayko_lm_pred)"
   ]
  },
  {
   "cell_type": "markdown",
   "id": "detected-uncle",
   "metadata": {},
   "source": [
    "<h3> iii."
   ]
  },
  {
   "cell_type": "markdown",
   "id": "sustainable-offer",
   "metadata": {},
   "source": [
    "Based on this we can assume that freq pruchasers are most likely to spend a large amount of money."
   ]
  },
  {
   "cell_type": "markdown",
   "id": "exclusive-growth",
   "metadata": {},
   "source": [
    "<h3>iv."
   ]
  },
  {
   "cell_type": "markdown",
   "id": "alleged-trout",
   "metadata": {},
   "source": [
    "Using backwards elimination we would remove the variable with the highest p-value. In our case that would be US."
   ]
  },
  {
   "cell_type": "markdown",
   "id": "transparent-convergence",
   "metadata": {},
   "source": [
    "<h3> vi."
   ]
  },
  {
   "cell_type": "code",
   "execution_count": 100,
   "id": "smoking-slovak",
   "metadata": {},
   "outputs": [
    {
     "name": "stdout",
     "output_type": "stream",
     "text": [
      "       Predicted  Actual\n",
      "674    89.214915       0\n",
      "1699  202.231362     184\n",
      "1282   49.159303       0\n",
      "1315  824.841659    1289\n",
      "1210    0.121196       0\n",
      "1636   86.766675       0\n",
      "613    58.018614       0\n",
      "447   247.428569    1255\n",
      "1131   67.036615       0\n",
      "808    67.825031       0\n",
      "1496   -7.098168       0\n",
      "1468  194.814024     411\n",
      "1682  -13.480101       0\n",
      "1149  -32.457046       0\n",
      "442    61.247979       0\n",
      "1813    4.497885     173\n",
      "654   -46.046854       0\n",
      "1264  -32.315195       0\n",
      "858    80.219048       0\n",
      "1482   51.783900       0\n",
      "\n",
      "Regression statistics\n",
      "\n",
      "               Mean Error (ME) : 7.1933\n",
      "Root Mean Squared Error (RMSE) : 136.7397\n",
      "     Mean Absolute Error (MAE) : 83.6010\n"
     ]
    }
   ],
   "source": [
    "# Use predict() to make predictions on a new set\n",
    "\n",
    "result = pd.DataFrame({'Predicted': tayko_lm_pred, 'Actual': valid_y})\n",
    "print(result.head(20))\n",
    "\n",
    "# Compute common accuracy measures\n",
    "regressionSummary(valid_y, tayko_lm_pred)"
   ]
  },
  {
   "cell_type": "markdown",
   "id": "valid-western",
   "metadata": {},
   "source": [
    "The predictive accuracy of this model is not that good as there are many occurances of predictions on 0's. "
   ]
  },
  {
   "cell_type": "markdown",
   "id": "protecting-ground",
   "metadata": {},
   "source": [
    "<h3> vii."
   ]
  },
  {
   "cell_type": "code",
   "execution_count": 101,
   "id": "criminal-minutes",
   "metadata": {},
   "outputs": [
    {
     "name": "stdout",
     "output_type": "stream",
     "text": [
      "1.0\n"
     ]
    },
    {
     "data": {
      "image/png": "[encoded data removed]",
      "text/plain": [
       "<Figure size 432x288 with 1 Axes>"
      ]
     },
     "metadata": {
      "needs_background": "light"
     },
     "output_type": "display_data"
    }
   ],
   "source": [
    "all_residuals = valid_y - tayko_lm_pred\n",
    "\n",
    "# Determine the percentage of datapoints with a residual in [-1406, 1406] = approx. 75\\%\n",
    "print(len(all_residuals[(all_residuals > -1406) & (all_residuals < 1406)]) / len(all_residuals))\n",
    "\n",
    "ax = pd.DataFrame({'Residuals': all_residuals}).hist(bins=25)\n",
    "\n",
    "plt.tight_layout()\n",
    "plt.show()"
   ]
  },
  {
   "cell_type": "markdown",
   "id": "responsible-remainder",
   "metadata": {},
   "source": [
    "The model does follow a normal distribution and this is good when it comes to predicting as a model that follows a normal distribution is best. "
   ]
  },
  {
   "cell_type": "markdown",
   "id": "institutional-video",
   "metadata": {},
   "source": [
    "<h3> Question 4.a"
   ]
  },
  {
   "cell_type": "code",
   "execution_count": 139,
   "id": "decent-think",
   "metadata": {},
   "outputs": [
    {
     "name": "stdout",
     "output_type": "stream",
     "text": [
      "Id                   float64\n",
      "Model                 object\n",
      "Price                float64\n",
      "Age_08_04            float64\n",
      "Mfg_Month            float64\n",
      "Mfg_Year             float64\n",
      "KM                   float64\n",
      "Fuel_Type             object\n",
      "HP                   float64\n",
      "Met_Color            float64\n",
      "Color                 object\n",
      "Automatic            float64\n",
      "CC                   float64\n",
      "Doors                float64\n",
      "Cylinders            float64\n",
      "Gears                float64\n",
      "Quarterly_Tax        float64\n",
      "Weight               float64\n",
      "Mfr_Guarantee        float64\n",
      "BOVAG_Guarantee      float64\n",
      "Guarantee_Period     float64\n",
      "ABS                  float64\n",
      "Airbag_1             float64\n",
      "Airbag_2             float64\n",
      "Airco                float64\n",
      "Automatic_airco      float64\n",
      "Boardcomputer        float64\n",
      "CD_Player            float64\n",
      "Central_Lock         float64\n",
      "Powered_Windows      float64\n",
      "Power_Steering       float64\n",
      "Radio                float64\n",
      "Mistlamps            float64\n",
      "Sport_Model          float64\n",
      "Backseat_Divider     float64\n",
      "Metallic_Rim         float64\n",
      "Radio_cassette       float64\n",
      "Parking_Assistant    float64\n",
      "Tow_Bar              float64\n",
      "dtype: object\n"
     ]
    }
   ],
   "source": [
    "car_df = pd.read_csv(DATA / 'ToyotaCorolla.csv')\n",
    "print(car_df.dtypes)"
   ]
  },
  {
   "cell_type": "code",
   "execution_count": 144,
   "id": "promotional-bachelor",
   "metadata": {},
   "outputs": [
    {
     "name": "stdout",
     "output_type": "stream",
     "text": [
      "intercept  9888.1435160156\n",
      "           Predictor  coefficient\n",
      "0          Age_08_04  -112.760804\n",
      "1                 KM    -0.017526\n",
      "2                 HP    36.639214\n",
      "3          Automatic   438.012053\n",
      "4              Doors   135.842045\n",
      "5      Quarterly_Tax    16.784320\n",
      "6      Mfr_Guarantee   307.694564\n",
      "7   Guarantee_Period    75.303894\n",
      "8              Airco   143.060006\n",
      "9    Automatic_airco  2691.521780\n",
      "10         CD_Player   182.975163\n",
      "11   Powered_Windows   544.575657\n",
      "12       Sport_Model   378.368928\n",
      "13           Tow_Bar  -297.080703\n",
      "14  Fuel_Type_Diesel  1617.023785\n",
      "15  Fuel_Type_Petrol  1597.687504\n",
      "\n",
      "Regression statistics\n",
      "\n",
      "                      Mean Error (ME) : -0.0000\n",
      "       Root Mean Squared Error (RMSE) : 1196.0699\n",
      "            Mean Absolute Error (MAE) : 909.5433\n",
      "          Mean Percentage Error (MPE) : -0.9825\n",
      "Mean Absolute Percentage Error (MAPE) : 9.1209\n"
     ]
    }
   ],
   "source": [
    "predictors = ['Age_08_04', 'KM', 'Fuel_Type', 'HP', 'Automatic', 'Doors', 'Quarterly_Tax', 'Mfr_Guarantee', 'Guarantee_Period', 'Airco', 'Automatic_airco', 'CD_Player', 'Powered_Windows', 'Sport_Model', 'Tow_Bar']\n",
    "outcome = 'Price'\n",
    "\n",
    "# partition data\n",
    "X = pd.get_dummies(car_df[predictors], prefix_sep='_', drop_first=True)\n",
    "car_df.replace([np.inf, -np.inf], np.nan)\n",
    "#car_df.dropna(inplace=True)\n",
    "y = car_df[outcome]\n",
    "\n",
    "#setting ratio size\n",
    "train_ratio = 0.5\n",
    "valid_ratio = 0.3\n",
    "test_ratio = 0.2\n",
    "\n",
    "# Produces test split.\n",
    "X_remaining, X_test, y_remaining, y_test = train_test_split(\n",
    "    X, y, test_size=test_ratio)\n",
    "\n",
    "# Adjusts val ratio, w.r.t. remaining dataset.\n",
    "ratio_remaining = 1 - test_ratio\n",
    "ratio_val_adjusted = valid_ratio / ratio_remaining\n",
    "\n",
    "# Produces train and val splits.\n",
    "X_train, X_val, y_train, y_val = train_test_split(\n",
    "    X_remaining, y_remaining, test_size=ratio_val_adjusted)\n",
    "\n",
    "car_lm = LinearRegression()\n",
    "car_lm.fit(X_train, y_train)\n",
    "\n",
    "# print coefficients\n",
    "print('intercept ', car_lm.intercept_)\n",
    "print(pd.DataFrame({'Predictor': X.columns, 'coefficient': car_lm.coef_}))\n",
    "\n",
    "# print performance measures\n",
    "regressionSummary(y_train, car_lm.predict(X_train))"
   ]
  },
  {
   "cell_type": "code",
   "execution_count": 145,
   "id": "divided-passport",
   "metadata": {},
   "outputs": [
    {
     "name": "stdout",
     "output_type": "stream",
     "text": [
      "Variables: Age_08_04, KM, HP, Automatic, Doors, Quarterly_Tax, Mfr_Guarantee, Guarantee_Period, Airco, Automatic_airco, CD_Player, Powered_Windows, Sport_Model, Tow_Bar, Fuel_Type_Diesel, Fuel_Type_Petrol\n",
      "Start: score=13794.24, constant\n"
     ]
    },
    {
     "ename": "KeyError",
     "evalue": "\"None of [Index(['Freq', 'last_update_days_ago', 'Web_order', 'Gender_male',\\n       'Address_is_res', 'US'],\\n      dtype='object')] are in the [columns]\"",
     "output_type": "error",
     "traceback": [
      "\u001b[1;31m---------------------------------------------------------------------------\u001b[0m",
      "\u001b[1;31mKeyError\u001b[0m                                  Traceback (most recent call last)",
      "\u001b[1;32m<ipython-input-145-dae363db82a5>\u001b[0m in \u001b[0;36m<module>\u001b[1;34m\u001b[0m\n\u001b[0;32m     13\u001b[0m     \u001b[1;32mreturn\u001b[0m \u001b[0mAIC_score\u001b[0m\u001b[1;33m(\u001b[0m\u001b[0my_train\u001b[0m\u001b[1;33m,\u001b[0m \u001b[0mmodel_car\u001b[0m\u001b[1;33m.\u001b[0m\u001b[0mpredict\u001b[0m\u001b[1;33m(\u001b[0m\u001b[0mX_train\u001b[0m\u001b[1;33m[\u001b[0m\u001b[0mvariables\u001b[0m\u001b[1;33m]\u001b[0m\u001b[1;33m)\u001b[0m\u001b[1;33m,\u001b[0m \u001b[0mmodel_car\u001b[0m\u001b[1;33m)\u001b[0m\u001b[1;33m\u001b[0m\u001b[1;33m\u001b[0m\u001b[0m\n\u001b[0;32m     14\u001b[0m \u001b[1;33m\u001b[0m\u001b[0m\n\u001b[1;32m---> 15\u001b[1;33m \u001b[0mbest_model_car\u001b[0m\u001b[1;33m,\u001b[0m \u001b[0mbest_variables_car\u001b[0m \u001b[1;33m=\u001b[0m \u001b[0mforward_selection\u001b[0m\u001b[1;33m(\u001b[0m\u001b[0mX_train\u001b[0m\u001b[1;33m.\u001b[0m\u001b[0mcolumns\u001b[0m\u001b[1;33m,\u001b[0m \u001b[0mtrain_model_car\u001b[0m\u001b[1;33m,\u001b[0m \u001b[0mscore_model_car\u001b[0m\u001b[1;33m,\u001b[0m \u001b[0mverbose\u001b[0m\u001b[1;33m=\u001b[0m\u001b[1;32mTrue\u001b[0m\u001b[1;33m)\u001b[0m\u001b[1;33m\u001b[0m\u001b[1;33m\u001b[0m\u001b[0m\n\u001b[0m\u001b[0;32m     16\u001b[0m \u001b[1;33m\u001b[0m\u001b[0m\n\u001b[0;32m     17\u001b[0m \u001b[0mprint\u001b[0m\u001b[1;33m(\u001b[0m\u001b[0mbest_variables_car\u001b[0m\u001b[1;33m)\u001b[0m\u001b[1;33m\u001b[0m\u001b[1;33m\u001b[0m\u001b[0m\n",
      "\u001b[1;32m~\\anaconda3\\lib\\site-packages\\dmba\\featureSelection.py\u001b[0m in \u001b[0;36mforward_selection\u001b[1;34m(variables, train_model, score_model, verbose)\u001b[0m\n\u001b[0;32m    110\u001b[0m             \u001b[0mstep_var\u001b[0m\u001b[1;33m.\u001b[0m\u001b[0mappend\u001b[0m\u001b[1;33m(\u001b[0m\u001b[0maddVar\u001b[0m\u001b[1;33m)\u001b[0m\u001b[1;33m\u001b[0m\u001b[1;33m\u001b[0m\u001b[0m\n\u001b[0;32m    111\u001b[0m             \u001b[0mstep_model\u001b[0m \u001b[1;33m=\u001b[0m \u001b[0mtrain_model\u001b[0m\u001b[1;33m(\u001b[0m\u001b[0mstep_var\u001b[0m\u001b[1;33m)\u001b[0m\u001b[1;33m\u001b[0m\u001b[1;33m\u001b[0m\u001b[0m\n\u001b[1;32m--> 112\u001b[1;33m             \u001b[0mstep_score\u001b[0m \u001b[1;33m=\u001b[0m \u001b[0mscore_model\u001b[0m\u001b[1;33m(\u001b[0m\u001b[0mstep_model\u001b[0m\u001b[1;33m,\u001b[0m \u001b[0mstep_var\u001b[0m\u001b[1;33m)\u001b[0m\u001b[1;33m\u001b[0m\u001b[1;33m\u001b[0m\u001b[0m\n\u001b[0m\u001b[0;32m    113\u001b[0m             \u001b[0mstep\u001b[0m\u001b[1;33m.\u001b[0m\u001b[0mappend\u001b[0m\u001b[1;33m(\u001b[0m\u001b[1;33m(\u001b[0m\u001b[0mstep_score\u001b[0m\u001b[1;33m,\u001b[0m \u001b[0maddVar\u001b[0m\u001b[1;33m,\u001b[0m \u001b[0mstep_model\u001b[0m\u001b[1;33m)\u001b[0m\u001b[1;33m)\u001b[0m\u001b[1;33m\u001b[0m\u001b[1;33m\u001b[0m\u001b[0m\n\u001b[0;32m    114\u001b[0m         \u001b[0mstep\u001b[0m\u001b[1;33m.\u001b[0m\u001b[0msort\u001b[0m\u001b[1;33m(\u001b[0m\u001b[0mkey\u001b[0m\u001b[1;33m=\u001b[0m\u001b[1;32mlambda\u001b[0m \u001b[0mx\u001b[0m\u001b[1;33m:\u001b[0m \u001b[0mx\u001b[0m\u001b[1;33m[\u001b[0m\u001b[1;36m0\u001b[0m\u001b[1;33m]\u001b[0m\u001b[1;33m)\u001b[0m\u001b[1;33m\u001b[0m\u001b[1;33m\u001b[0m\u001b[0m\n",
      "\u001b[1;32m<ipython-input-145-dae363db82a5>\u001b[0m in \u001b[0;36mscore_model_car\u001b[1;34m(model_car, variables_car)\u001b[0m\n\u001b[0;32m     11\u001b[0m     \u001b[1;32mif\u001b[0m \u001b[0mlen\u001b[0m\u001b[1;33m(\u001b[0m\u001b[0mvariables_car\u001b[0m\u001b[1;33m)\u001b[0m \u001b[1;33m==\u001b[0m \u001b[1;36m0\u001b[0m\u001b[1;33m:\u001b[0m\u001b[1;33m\u001b[0m\u001b[1;33m\u001b[0m\u001b[0m\n\u001b[0;32m     12\u001b[0m         \u001b[1;32mreturn\u001b[0m \u001b[0mAIC_score\u001b[0m\u001b[1;33m(\u001b[0m\u001b[0my_train\u001b[0m\u001b[1;33m,\u001b[0m \u001b[1;33m[\u001b[0m\u001b[0my_train\u001b[0m\u001b[1;33m.\u001b[0m\u001b[0mmean\u001b[0m\u001b[1;33m(\u001b[0m\u001b[1;33m)\u001b[0m\u001b[1;33m]\u001b[0m \u001b[1;33m*\u001b[0m \u001b[0mlen\u001b[0m\u001b[1;33m(\u001b[0m\u001b[0my_train\u001b[0m\u001b[1;33m)\u001b[0m\u001b[1;33m,\u001b[0m \u001b[0mmodel_car\u001b[0m\u001b[1;33m,\u001b[0m \u001b[0mdf\u001b[0m\u001b[1;33m=\u001b[0m\u001b[1;36m1\u001b[0m\u001b[1;33m)\u001b[0m\u001b[1;33m\u001b[0m\u001b[1;33m\u001b[0m\u001b[0m\n\u001b[1;32m---> 13\u001b[1;33m     \u001b[1;32mreturn\u001b[0m \u001b[0mAIC_score\u001b[0m\u001b[1;33m(\u001b[0m\u001b[0my_train\u001b[0m\u001b[1;33m,\u001b[0m \u001b[0mmodel_car\u001b[0m\u001b[1;33m.\u001b[0m\u001b[0mpredict\u001b[0m\u001b[1;33m(\u001b[0m\u001b[0mX_train\u001b[0m\u001b[1;33m[\u001b[0m\u001b[0mvariables\u001b[0m\u001b[1;33m]\u001b[0m\u001b[1;33m)\u001b[0m\u001b[1;33m,\u001b[0m \u001b[0mmodel_car\u001b[0m\u001b[1;33m)\u001b[0m\u001b[1;33m\u001b[0m\u001b[1;33m\u001b[0m\u001b[0m\n\u001b[0m\u001b[0;32m     14\u001b[0m \u001b[1;33m\u001b[0m\u001b[0m\n\u001b[0;32m     15\u001b[0m \u001b[0mbest_model_car\u001b[0m\u001b[1;33m,\u001b[0m \u001b[0mbest_variables_car\u001b[0m \u001b[1;33m=\u001b[0m \u001b[0mforward_selection\u001b[0m\u001b[1;33m(\u001b[0m\u001b[0mX_train\u001b[0m\u001b[1;33m.\u001b[0m\u001b[0mcolumns\u001b[0m\u001b[1;33m,\u001b[0m \u001b[0mtrain_model_car\u001b[0m\u001b[1;33m,\u001b[0m \u001b[0mscore_model_car\u001b[0m\u001b[1;33m,\u001b[0m \u001b[0mverbose\u001b[0m\u001b[1;33m=\u001b[0m\u001b[1;32mTrue\u001b[0m\u001b[1;33m)\u001b[0m\u001b[1;33m\u001b[0m\u001b[1;33m\u001b[0m\u001b[0m\n",
      "\u001b[1;32m~\\anaconda3\\lib\\site-packages\\pandas\\core\\frame.py\u001b[0m in \u001b[0;36m__getitem__\u001b[1;34m(self, key)\u001b[0m\n\u001b[0;32m   3028\u001b[0m             \u001b[1;32mif\u001b[0m \u001b[0mis_iterator\u001b[0m\u001b[1;33m(\u001b[0m\u001b[0mkey\u001b[0m\u001b[1;33m)\u001b[0m\u001b[1;33m:\u001b[0m\u001b[1;33m\u001b[0m\u001b[1;33m\u001b[0m\u001b[0m\n\u001b[0;32m   3029\u001b[0m                 \u001b[0mkey\u001b[0m \u001b[1;33m=\u001b[0m \u001b[0mlist\u001b[0m\u001b[1;33m(\u001b[0m\u001b[0mkey\u001b[0m\u001b[1;33m)\u001b[0m\u001b[1;33m\u001b[0m\u001b[1;33m\u001b[0m\u001b[0m\n\u001b[1;32m-> 3030\u001b[1;33m             \u001b[0mindexer\u001b[0m \u001b[1;33m=\u001b[0m \u001b[0mself\u001b[0m\u001b[1;33m.\u001b[0m\u001b[0mloc\u001b[0m\u001b[1;33m.\u001b[0m\u001b[0m_get_listlike_indexer\u001b[0m\u001b[1;33m(\u001b[0m\u001b[0mkey\u001b[0m\u001b[1;33m,\u001b[0m \u001b[0maxis\u001b[0m\u001b[1;33m=\u001b[0m\u001b[1;36m1\u001b[0m\u001b[1;33m,\u001b[0m \u001b[0mraise_missing\u001b[0m\u001b[1;33m=\u001b[0m\u001b[1;32mTrue\u001b[0m\u001b[1;33m)\u001b[0m\u001b[1;33m[\u001b[0m\u001b[1;36m1\u001b[0m\u001b[1;33m]\u001b[0m\u001b[1;33m\u001b[0m\u001b[1;33m\u001b[0m\u001b[0m\n\u001b[0m\u001b[0;32m   3031\u001b[0m \u001b[1;33m\u001b[0m\u001b[0m\n\u001b[0;32m   3032\u001b[0m         \u001b[1;31m# take() does not accept boolean indexers\u001b[0m\u001b[1;33m\u001b[0m\u001b[1;33m\u001b[0m\u001b[1;33m\u001b[0m\u001b[0m\n",
      "\u001b[1;32m~\\anaconda3\\lib\\site-packages\\pandas\\core\\indexing.py\u001b[0m in \u001b[0;36m_get_listlike_indexer\u001b[1;34m(self, key, axis, raise_missing)\u001b[0m\n\u001b[0;32m   1264\u001b[0m             \u001b[0mkeyarr\u001b[0m\u001b[1;33m,\u001b[0m \u001b[0mindexer\u001b[0m\u001b[1;33m,\u001b[0m \u001b[0mnew_indexer\u001b[0m \u001b[1;33m=\u001b[0m \u001b[0max\u001b[0m\u001b[1;33m.\u001b[0m\u001b[0m_reindex_non_unique\u001b[0m\u001b[1;33m(\u001b[0m\u001b[0mkeyarr\u001b[0m\u001b[1;33m)\u001b[0m\u001b[1;33m\u001b[0m\u001b[1;33m\u001b[0m\u001b[0m\n\u001b[0;32m   1265\u001b[0m \u001b[1;33m\u001b[0m\u001b[0m\n\u001b[1;32m-> 1266\u001b[1;33m         \u001b[0mself\u001b[0m\u001b[1;33m.\u001b[0m\u001b[0m_validate_read_indexer\u001b[0m\u001b[1;33m(\u001b[0m\u001b[0mkeyarr\u001b[0m\u001b[1;33m,\u001b[0m \u001b[0mindexer\u001b[0m\u001b[1;33m,\u001b[0m \u001b[0maxis\u001b[0m\u001b[1;33m,\u001b[0m \u001b[0mraise_missing\u001b[0m\u001b[1;33m=\u001b[0m\u001b[0mraise_missing\u001b[0m\u001b[1;33m)\u001b[0m\u001b[1;33m\u001b[0m\u001b[1;33m\u001b[0m\u001b[0m\n\u001b[0m\u001b[0;32m   1267\u001b[0m         \u001b[1;32mreturn\u001b[0m \u001b[0mkeyarr\u001b[0m\u001b[1;33m,\u001b[0m \u001b[0mindexer\u001b[0m\u001b[1;33m\u001b[0m\u001b[1;33m\u001b[0m\u001b[0m\n\u001b[0;32m   1268\u001b[0m \u001b[1;33m\u001b[0m\u001b[0m\n",
      "\u001b[1;32m~\\anaconda3\\lib\\site-packages\\pandas\\core\\indexing.py\u001b[0m in \u001b[0;36m_validate_read_indexer\u001b[1;34m(self, key, indexer, axis, raise_missing)\u001b[0m\n\u001b[0;32m   1306\u001b[0m             \u001b[1;32mif\u001b[0m \u001b[0mmissing\u001b[0m \u001b[1;33m==\u001b[0m \u001b[0mlen\u001b[0m\u001b[1;33m(\u001b[0m\u001b[0mindexer\u001b[0m\u001b[1;33m)\u001b[0m\u001b[1;33m:\u001b[0m\u001b[1;33m\u001b[0m\u001b[1;33m\u001b[0m\u001b[0m\n\u001b[0;32m   1307\u001b[0m                 \u001b[0maxis_name\u001b[0m \u001b[1;33m=\u001b[0m \u001b[0mself\u001b[0m\u001b[1;33m.\u001b[0m\u001b[0mobj\u001b[0m\u001b[1;33m.\u001b[0m\u001b[0m_get_axis_name\u001b[0m\u001b[1;33m(\u001b[0m\u001b[0maxis\u001b[0m\u001b[1;33m)\u001b[0m\u001b[1;33m\u001b[0m\u001b[1;33m\u001b[0m\u001b[0m\n\u001b[1;32m-> 1308\u001b[1;33m                 \u001b[1;32mraise\u001b[0m \u001b[0mKeyError\u001b[0m\u001b[1;33m(\u001b[0m\u001b[1;34mf\"None of [{key}] are in the [{axis_name}]\"\u001b[0m\u001b[1;33m)\u001b[0m\u001b[1;33m\u001b[0m\u001b[1;33m\u001b[0m\u001b[0m\n\u001b[0m\u001b[0;32m   1309\u001b[0m \u001b[1;33m\u001b[0m\u001b[0m\n\u001b[0;32m   1310\u001b[0m             \u001b[0max\u001b[0m \u001b[1;33m=\u001b[0m \u001b[0mself\u001b[0m\u001b[1;33m.\u001b[0m\u001b[0mobj\u001b[0m\u001b[1;33m.\u001b[0m\u001b[0m_get_axis\u001b[0m\u001b[1;33m(\u001b[0m\u001b[0maxis\u001b[0m\u001b[1;33m)\u001b[0m\u001b[1;33m\u001b[0m\u001b[1;33m\u001b[0m\u001b[0m\n",
      "\u001b[1;31mKeyError\u001b[0m: \"None of [Index(['Freq', 'last_update_days_ago', 'Web_order', 'Gender_male',\\n       'Address_is_res', 'US'],\\n      dtype='object')] are in the [columns]\""
     ]
    }
   ],
   "source": [
    "# The initial model is the constant model - this requires special handling\n",
    "# in train_model and score_model\n",
    "def train_model_car(variables_car):\n",
    "    if len(variables_car) == 0:\n",
    "        return None\n",
    "    model_car = LinearRegression()\n",
    "    model_car.fit(X_train[variables_car], y_train)\n",
    "    return model_car\n",
    "\n",
    "def score_model_car(model_car, variables_car):\n",
    "    if len(variables_car) == 0:\n",
    "        return AIC_score(y_train, [y_train.mean()] * len(y_train), model_car, df=1)\n",
    "    return AIC_score(y_train, model_car.predict(X_train[variables]), model_car)\n",
    "\n",
    "best_model_car, best_variables_car = forward_selection(X_train.columns, train_model_car, score_model_car, verbose=True)\n",
    "\n",
    "print(best_variables_car)"
   ]
  },
  {
   "cell_type": "markdown",
   "id": "temporal-niger",
   "metadata": {},
   "source": [
    "The four most important car specifications for predicting price are Age_08_04, Automatic_airco, KM, and Quarterly_Tax"
   ]
  },
  {
   "cell_type": "markdown",
   "id": "biological-recovery",
   "metadata": {},
   "source": [
    "<h3> Question 4.b"
   ]
  },
  {
   "cell_type": "code",
   "execution_count": 146,
   "id": "handed-robertson",
   "metadata": {},
   "outputs": [
    {
     "name": "stdout",
     "output_type": "stream",
     "text": [
      "intercept  17461.492822639004\n",
      "         Predictor  coefficient\n",
      "0        Age_08_04  -118.685535\n",
      "1               KM    -0.024065\n",
      "2  Automatic_airco  3938.833625\n",
      "3    Quarterly_Tax    14.937444\n",
      "\n",
      "Regression statistics\n",
      "\n",
      "                      Mean Error (ME) : -0.0000\n",
      "       Root Mean Squared Error (RMSE) : 1288.4142\n",
      "            Mean Absolute Error (MAE) : 982.9730\n",
      "          Mean Percentage Error (MPE) : -1.1389\n",
      "Mean Absolute Percentage Error (MAPE) : 9.6938\n"
     ]
    }
   ],
   "source": [
    "predictors = ['Age_08_04', 'KM', 'Automatic_airco', 'Quarterly_Tax']\n",
    "outcome = 'Price'\n",
    "\n",
    "# partition data\n",
    "X = car_df[predictors]\n",
    "y = car_df[outcome]\n",
    "\n",
    "#setting ratio size\n",
    "train_ratio = 0.5\n",
    "valid_ratio = 0.3\n",
    "test_ratio = 0.2\n",
    "\n",
    "# Produces test split.\n",
    "X_remaining, X_test, y_remaining, y_test = train_test_split(\n",
    "    X, y, test_size=test_ratio)\n",
    "\n",
    "# Adjusts val ratio, w.r.t. remaining dataset.\n",
    "ratio_remaining = 1 - test_ratio\n",
    "ratio_val_adjusted = valid_ratio / ratio_remaining\n",
    "\n",
    "# Produces train and val splits.\n",
    "X_train, X_val, y_train, y_val = train_test_split(\n",
    "    X_remaining, y_remaining, test_size=ratio_val_adjusted)\n",
    "\n",
    "car_lm = LinearRegression()\n",
    "car_lm.fit(X_train, y_train)\n",
    "\n",
    "# print coefficients\n",
    "print('intercept ', car_lm.intercept_)\n",
    "print(pd.DataFrame({'Predictor': X.columns, 'coefficient': car_lm.coef_}))\n",
    "\n",
    "# print performance measures\n",
    "regressionSummary(y_train, car_lm.predict(X_train))"
   ]
  },
  {
   "cell_type": "code",
   "execution_count": 147,
   "id": "selective-hawaiian",
   "metadata": {},
   "outputs": [
    {
     "name": "stdout",
     "output_type": "stream",
     "text": [
      "         Predicted   Actual     Residual\n",
      "633   12609.259523  12950.0   340.740477\n",
      "2799   8548.520922   8950.0   401.479078\n",
      "15    15211.549213  18600.0  3388.450787\n",
      "2273   6822.946146   6750.0   -72.946146\n",
      "593   14183.347622  12950.0 -1233.347622\n",
      "607   12912.310105  11500.0 -1412.310105\n",
      "831    9863.570773   9950.0    86.429227\n",
      "887   10511.750392  11950.0  1438.249608\n",
      "521   12381.158015  11950.0  -431.158015\n",
      "705   13589.139886  12450.0 -1139.139886\n",
      "119   18172.125749  15999.0 -2173.125749\n",
      "1525   8618.492282   9895.0  1276.507718\n",
      "2255   7193.720718   8700.0  1506.279282\n",
      "405   11527.527824  10500.0 -1027.527824\n",
      "1219   8065.697428   5751.0 -2314.697428\n",
      "2013  10588.934253  10950.0   361.065747\n",
      "1849   9643.303766   9950.0   306.696234\n",
      "2413   7725.894336   7500.0  -225.894336\n",
      "1471   9338.031876  10450.0  1111.968124\n",
      "2501   7465.880902   8950.0  1484.119098\n",
      "\n",
      "Regression statistics\n",
      "\n",
      "                      Mean Error (ME) : 112.7476\n",
      "       Root Mean Squared Error (RMSE) : 1503.4077\n",
      "            Mean Absolute Error (MAE) : 1084.4945\n",
      "          Mean Percentage Error (MPE) : -0.2311\n",
      "Mean Absolute Percentage Error (MAPE) : 10.4599\n"
     ]
    }
   ],
   "source": [
    "# Use predict() to make predictions on a new set\n",
    "car_lm = LinearRegression()\n",
    "car_lm.fit(X_train, y_train)\n",
    "car_lm_pred = car_lm.predict(X_val)\n",
    "result = pd.DataFrame({'Predicted': car_lm_pred, 'Actual': y_val, \n",
    "                       'Residual': y_val - car_lm_pred})\n",
    "print(result.head(20))\n",
    "\n",
    "# Compute common accuracy measures\n",
    "regressionSummary(y_val, car_lm_pred)"
   ]
  },
  {
   "cell_type": "markdown",
   "id": "contrary-sister",
   "metadata": {},
   "source": [
    "Looking at this we can see that the predictive model is still not completely all positive, but this model is better than using all variables. On average we are positive with more prices being predictided below the actual (which I would see as good)."
   ]
  }
 ],
 "metadata": {
  "kernelspec": {
   "display_name": "Python 3",
   "language": "python",
   "name": "python3"
  },
  "language_info": {
   "codemirror_mode": {
    "name": "ipython",
    "version": 3
   },
   "file_extension": ".py",
   "mimetype": "text/x-python",
   "name": "python",
   "nbconvert_exporter": "python",
   "pygments_lexer": "ipython3",
   "version": "3.8.5"
  }
 },
 "nbformat": 4,
 "nbformat_minor": 5
}
